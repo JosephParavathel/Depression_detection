{
  "nbformat": 4,
  "nbformat_minor": 0,
  "metadata": {
    "colab": {
      "provenance": []
    },
    "kernelspec": {
      "name": "python3",
      "display_name": "Python 3"
    },
    "language_info": {
      "name": "python"
    }
  },
  "cells": [
    {
      "cell_type": "code",
      "execution_count": null,
      "metadata": {
        "id": "zeStKCiZslqC"
      },
      "outputs": [],
      "source": [
        "import pandas as pd\n",
        "import numpy as np\n",
        "import seaborn as sns\n",
        "import matplotlib.pyplot as plt"
      ]
    },
    {
      "cell_type": "markdown",
      "source": [
        "Loading the Dataset\n",
        "\n",
        "\n",
        "\n",
        "\n",
        "\n"
      ],
      "metadata": {
        "id": "cLJIhAFA9TgR"
      }
    },
    {
      "cell_type": "code",
      "source": [
        "df=pd.read_csv(\"/content/drive/MyDrive/Mental-Health-Twitter.csv\")"
      ],
      "metadata": {
        "id": "kUlEpppZs3Fd"
      },
      "execution_count": null,
      "outputs": []
    },
    {
      "cell_type": "code",
      "source": [
        "df"
      ],
      "metadata": {
        "colab": {
          "base_uri": "https://localhost:8080/",
          "height": 658
        },
        "id": "lGnzvgUhti2K",
        "outputId": "329213fe-13eb-4b89-8d10-25b88d110542"
      },
      "execution_count": null,
      "outputs": [
        {
          "output_type": "execute_result",
          "data": {
            "text/plain": [
              "       Unnamed: 0             post_id                    post_created  \\\n",
              "0               0  637894677824413696  Sun Aug 30 07:48:37 +0000 2015   \n",
              "1               1  637890384576778240  Sun Aug 30 07:31:33 +0000 2015   \n",
              "2               2  637749345908051968  Sat Aug 29 22:11:07 +0000 2015   \n",
              "3               3  637696421077123073  Sat Aug 29 18:40:49 +0000 2015   \n",
              "4               4  637696327485366272  Sat Aug 29 18:40:26 +0000 2015   \n",
              "...           ...                 ...                             ...   \n",
              "19995       19995  819336825231773698  Thu Jan 12 00:14:56 +0000 2017   \n",
              "19996       19996  819334654260080640  Thu Jan 12 00:06:18 +0000 2017   \n",
              "19997       19997  819334503042871297  Thu Jan 12 00:05:42 +0000 2017   \n",
              "19998       19998  819334419374899200  Thu Jan 12 00:05:22 +0000 2017   \n",
              "19999       19999  819334270825197568  Thu Jan 12 00:04:47 +0000 2017   \n",
              "\n",
              "                                               post_text     user_id  \\\n",
              "0      It's just over 2 years since I was diagnosed w...  1013187241   \n",
              "1      It's Sunday, I need a break, so I'm planning t...  1013187241   \n",
              "2      Awake but tired. I need to sleep but my brain ...  1013187241   \n",
              "3      RT @SewHQ: #Retro bears make perfect gifts and...  1013187241   \n",
              "4      It’s hard to say whether packing lists are mak...  1013187241   \n",
              "...                                                  ...         ...   \n",
              "19995              A day without sunshine is like night.  1169875706   \n",
              "19996  Boren's Laws: (1) When in charge, ponder. (2) ...  1169875706   \n",
              "19997  The flow chart is a most thoroughly oversold p...  1169875706   \n",
              "19998  Ships are safe in harbor, but they were never ...  1169875706   \n",
              "19999     Black holes are where God is dividing by zero.  1169875706   \n",
              "\n",
              "       followers  friends  favourites  statuses  retweets  label  \n",
              "0             84      211         251       837         0      1  \n",
              "1             84      211         251       837         1      1  \n",
              "2             84      211         251       837         0      1  \n",
              "3             84      211         251       837         2      1  \n",
              "4             84      211         251       837         1      1  \n",
              "...          ...      ...         ...       ...       ...    ...  \n",
              "19995        442      230           7   1063601         0      0  \n",
              "19996        442      230           7   1063601         0      0  \n",
              "19997        442      230           7   1063601         0      0  \n",
              "19998        442      230           7   1063601         0      0  \n",
              "19999        442      230           7   1063601         0      0  \n",
              "\n",
              "[20000 rows x 11 columns]"
            ],
            "text/html": [
              "\n",
              "  <div id=\"df-d1f7f794-83e2-4af1-b1e0-d0aa584d9f0e\">\n",
              "    <div class=\"colab-df-container\">\n",
              "      <div>\n",
              "<style scoped>\n",
              "    .dataframe tbody tr th:only-of-type {\n",
              "        vertical-align: middle;\n",
              "    }\n",
              "\n",
              "    .dataframe tbody tr th {\n",
              "        vertical-align: top;\n",
              "    }\n",
              "\n",
              "    .dataframe thead th {\n",
              "        text-align: right;\n",
              "    }\n",
              "</style>\n",
              "<table border=\"1\" class=\"dataframe\">\n",
              "  <thead>\n",
              "    <tr style=\"text-align: right;\">\n",
              "      <th></th>\n",
              "      <th>Unnamed: 0</th>\n",
              "      <th>post_id</th>\n",
              "      <th>post_created</th>\n",
              "      <th>post_text</th>\n",
              "      <th>user_id</th>\n",
              "      <th>followers</th>\n",
              "      <th>friends</th>\n",
              "      <th>favourites</th>\n",
              "      <th>statuses</th>\n",
              "      <th>retweets</th>\n",
              "      <th>label</th>\n",
              "    </tr>\n",
              "  </thead>\n",
              "  <tbody>\n",
              "    <tr>\n",
              "      <th>0</th>\n",
              "      <td>0</td>\n",
              "      <td>637894677824413696</td>\n",
              "      <td>Sun Aug 30 07:48:37 +0000 2015</td>\n",
              "      <td>It's just over 2 years since I was diagnosed w...</td>\n",
              "      <td>1013187241</td>\n",
              "      <td>84</td>\n",
              "      <td>211</td>\n",
              "      <td>251</td>\n",
              "      <td>837</td>\n",
              "      <td>0</td>\n",
              "      <td>1</td>\n",
              "    </tr>\n",
              "    <tr>\n",
              "      <th>1</th>\n",
              "      <td>1</td>\n",
              "      <td>637890384576778240</td>\n",
              "      <td>Sun Aug 30 07:31:33 +0000 2015</td>\n",
              "      <td>It's Sunday, I need a break, so I'm planning t...</td>\n",
              "      <td>1013187241</td>\n",
              "      <td>84</td>\n",
              "      <td>211</td>\n",
              "      <td>251</td>\n",
              "      <td>837</td>\n",
              "      <td>1</td>\n",
              "      <td>1</td>\n",
              "    </tr>\n",
              "    <tr>\n",
              "      <th>2</th>\n",
              "      <td>2</td>\n",
              "      <td>637749345908051968</td>\n",
              "      <td>Sat Aug 29 22:11:07 +0000 2015</td>\n",
              "      <td>Awake but tired. I need to sleep but my brain ...</td>\n",
              "      <td>1013187241</td>\n",
              "      <td>84</td>\n",
              "      <td>211</td>\n",
              "      <td>251</td>\n",
              "      <td>837</td>\n",
              "      <td>0</td>\n",
              "      <td>1</td>\n",
              "    </tr>\n",
              "    <tr>\n",
              "      <th>3</th>\n",
              "      <td>3</td>\n",
              "      <td>637696421077123073</td>\n",
              "      <td>Sat Aug 29 18:40:49 +0000 2015</td>\n",
              "      <td>RT @SewHQ: #Retro bears make perfect gifts and...</td>\n",
              "      <td>1013187241</td>\n",
              "      <td>84</td>\n",
              "      <td>211</td>\n",
              "      <td>251</td>\n",
              "      <td>837</td>\n",
              "      <td>2</td>\n",
              "      <td>1</td>\n",
              "    </tr>\n",
              "    <tr>\n",
              "      <th>4</th>\n",
              "      <td>4</td>\n",
              "      <td>637696327485366272</td>\n",
              "      <td>Sat Aug 29 18:40:26 +0000 2015</td>\n",
              "      <td>It’s hard to say whether packing lists are mak...</td>\n",
              "      <td>1013187241</td>\n",
              "      <td>84</td>\n",
              "      <td>211</td>\n",
              "      <td>251</td>\n",
              "      <td>837</td>\n",
              "      <td>1</td>\n",
              "      <td>1</td>\n",
              "    </tr>\n",
              "    <tr>\n",
              "      <th>...</th>\n",
              "      <td>...</td>\n",
              "      <td>...</td>\n",
              "      <td>...</td>\n",
              "      <td>...</td>\n",
              "      <td>...</td>\n",
              "      <td>...</td>\n",
              "      <td>...</td>\n",
              "      <td>...</td>\n",
              "      <td>...</td>\n",
              "      <td>...</td>\n",
              "      <td>...</td>\n",
              "    </tr>\n",
              "    <tr>\n",
              "      <th>19995</th>\n",
              "      <td>19995</td>\n",
              "      <td>819336825231773698</td>\n",
              "      <td>Thu Jan 12 00:14:56 +0000 2017</td>\n",
              "      <td>A day without sunshine is like night.</td>\n",
              "      <td>1169875706</td>\n",
              "      <td>442</td>\n",
              "      <td>230</td>\n",
              "      <td>7</td>\n",
              "      <td>1063601</td>\n",
              "      <td>0</td>\n",
              "      <td>0</td>\n",
              "    </tr>\n",
              "    <tr>\n",
              "      <th>19996</th>\n",
              "      <td>19996</td>\n",
              "      <td>819334654260080640</td>\n",
              "      <td>Thu Jan 12 00:06:18 +0000 2017</td>\n",
              "      <td>Boren's Laws: (1) When in charge, ponder. (2) ...</td>\n",
              "      <td>1169875706</td>\n",
              "      <td>442</td>\n",
              "      <td>230</td>\n",
              "      <td>7</td>\n",
              "      <td>1063601</td>\n",
              "      <td>0</td>\n",
              "      <td>0</td>\n",
              "    </tr>\n",
              "    <tr>\n",
              "      <th>19997</th>\n",
              "      <td>19997</td>\n",
              "      <td>819334503042871297</td>\n",
              "      <td>Thu Jan 12 00:05:42 +0000 2017</td>\n",
              "      <td>The flow chart is a most thoroughly oversold p...</td>\n",
              "      <td>1169875706</td>\n",
              "      <td>442</td>\n",
              "      <td>230</td>\n",
              "      <td>7</td>\n",
              "      <td>1063601</td>\n",
              "      <td>0</td>\n",
              "      <td>0</td>\n",
              "    </tr>\n",
              "    <tr>\n",
              "      <th>19998</th>\n",
              "      <td>19998</td>\n",
              "      <td>819334419374899200</td>\n",
              "      <td>Thu Jan 12 00:05:22 +0000 2017</td>\n",
              "      <td>Ships are safe in harbor, but they were never ...</td>\n",
              "      <td>1169875706</td>\n",
              "      <td>442</td>\n",
              "      <td>230</td>\n",
              "      <td>7</td>\n",
              "      <td>1063601</td>\n",
              "      <td>0</td>\n",
              "      <td>0</td>\n",
              "    </tr>\n",
              "    <tr>\n",
              "      <th>19999</th>\n",
              "      <td>19999</td>\n",
              "      <td>819334270825197568</td>\n",
              "      <td>Thu Jan 12 00:04:47 +0000 2017</td>\n",
              "      <td>Black holes are where God is dividing by zero.</td>\n",
              "      <td>1169875706</td>\n",
              "      <td>442</td>\n",
              "      <td>230</td>\n",
              "      <td>7</td>\n",
              "      <td>1063601</td>\n",
              "      <td>0</td>\n",
              "      <td>0</td>\n",
              "    </tr>\n",
              "  </tbody>\n",
              "</table>\n",
              "<p>20000 rows × 11 columns</p>\n",
              "</div>\n",
              "      <button class=\"colab-df-convert\" onclick=\"convertToInteractive('df-d1f7f794-83e2-4af1-b1e0-d0aa584d9f0e')\"\n",
              "              title=\"Convert this dataframe to an interactive table.\"\n",
              "              style=\"display:none;\">\n",
              "        \n",
              "  <svg xmlns=\"http://www.w3.org/2000/svg\" height=\"24px\"viewBox=\"0 0 24 24\"\n",
              "       width=\"24px\">\n",
              "    <path d=\"M0 0h24v24H0V0z\" fill=\"none\"/>\n",
              "    <path d=\"M18.56 5.44l.94 2.06.94-2.06 2.06-.94-2.06-.94-.94-2.06-.94 2.06-2.06.94zm-11 1L8.5 8.5l.94-2.06 2.06-.94-2.06-.94L8.5 2.5l-.94 2.06-2.06.94zm10 10l.94 2.06.94-2.06 2.06-.94-2.06-.94-.94-2.06-.94 2.06-2.06.94z\"/><path d=\"M17.41 7.96l-1.37-1.37c-.4-.4-.92-.59-1.43-.59-.52 0-1.04.2-1.43.59L10.3 9.45l-7.72 7.72c-.78.78-.78 2.05 0 2.83L4 21.41c.39.39.9.59 1.41.59.51 0 1.02-.2 1.41-.59l7.78-7.78 2.81-2.81c.8-.78.8-2.07 0-2.86zM5.41 20L4 18.59l7.72-7.72 1.47 1.35L5.41 20z\"/>\n",
              "  </svg>\n",
              "      </button>\n",
              "      \n",
              "  <style>\n",
              "    .colab-df-container {\n",
              "      display:flex;\n",
              "      flex-wrap:wrap;\n",
              "      gap: 12px;\n",
              "    }\n",
              "\n",
              "    .colab-df-convert {\n",
              "      background-color: #E8F0FE;\n",
              "      border: none;\n",
              "      border-radius: 50%;\n",
              "      cursor: pointer;\n",
              "      display: none;\n",
              "      fill: #1967D2;\n",
              "      height: 32px;\n",
              "      padding: 0 0 0 0;\n",
              "      width: 32px;\n",
              "    }\n",
              "\n",
              "    .colab-df-convert:hover {\n",
              "      background-color: #E2EBFA;\n",
              "      box-shadow: 0px 1px 2px rgba(60, 64, 67, 0.3), 0px 1px 3px 1px rgba(60, 64, 67, 0.15);\n",
              "      fill: #174EA6;\n",
              "    }\n",
              "\n",
              "    [theme=dark] .colab-df-convert {\n",
              "      background-color: #3B4455;\n",
              "      fill: #D2E3FC;\n",
              "    }\n",
              "\n",
              "    [theme=dark] .colab-df-convert:hover {\n",
              "      background-color: #434B5C;\n",
              "      box-shadow: 0px 1px 3px 1px rgba(0, 0, 0, 0.15);\n",
              "      filter: drop-shadow(0px 1px 2px rgba(0, 0, 0, 0.3));\n",
              "      fill: #FFFFFF;\n",
              "    }\n",
              "  </style>\n",
              "\n",
              "      <script>\n",
              "        const buttonEl =\n",
              "          document.querySelector('#df-d1f7f794-83e2-4af1-b1e0-d0aa584d9f0e button.colab-df-convert');\n",
              "        buttonEl.style.display =\n",
              "          google.colab.kernel.accessAllowed ? 'block' : 'none';\n",
              "\n",
              "        async function convertToInteractive(key) {\n",
              "          const element = document.querySelector('#df-d1f7f794-83e2-4af1-b1e0-d0aa584d9f0e');\n",
              "          const dataTable =\n",
              "            await google.colab.kernel.invokeFunction('convertToInteractive',\n",
              "                                                     [key], {});\n",
              "          if (!dataTable) return;\n",
              "\n",
              "          const docLinkHtml = 'Like what you see? Visit the ' +\n",
              "            '<a target=\"_blank\" href=https://colab.research.google.com/notebooks/data_table.ipynb>data table notebook</a>'\n",
              "            + ' to learn more about interactive tables.';\n",
              "          element.innerHTML = '';\n",
              "          dataTable['output_type'] = 'display_data';\n",
              "          await google.colab.output.renderOutput(dataTable, element);\n",
              "          const docLink = document.createElement('div');\n",
              "          docLink.innerHTML = docLinkHtml;\n",
              "          element.appendChild(docLink);\n",
              "        }\n",
              "      </script>\n",
              "    </div>\n",
              "  </div>\n",
              "  "
            ]
          },
          "metadata": {},
          "execution_count": 3
        }
      ]
    },
    {
      "cell_type": "markdown",
      "source": [
        "**Data Analysis**"
      ],
      "metadata": {
        "id": "OtdUUxJu9L3I"
      }
    },
    {
      "cell_type": "code",
      "source": [
        "df.info()"
      ],
      "metadata": {
        "colab": {
          "base_uri": "https://localhost:8080/"
        },
        "id": "ZFj_MTsBt-7r",
        "outputId": "bb167be4-84bb-4678-f815-bcc18ffc9267"
      },
      "execution_count": null,
      "outputs": [
        {
          "output_type": "stream",
          "name": "stdout",
          "text": [
            "<class 'pandas.core.frame.DataFrame'>\n",
            "RangeIndex: 20000 entries, 0 to 19999\n",
            "Data columns (total 11 columns):\n",
            " #   Column        Non-Null Count  Dtype \n",
            "---  ------        --------------  ----- \n",
            " 0   Unnamed: 0    20000 non-null  int64 \n",
            " 1   post_id       20000 non-null  int64 \n",
            " 2   post_created  20000 non-null  object\n",
            " 3   post_text     20000 non-null  object\n",
            " 4   user_id       20000 non-null  int64 \n",
            " 5   followers     20000 non-null  int64 \n",
            " 6   friends       20000 non-null  int64 \n",
            " 7   favourites    20000 non-null  int64 \n",
            " 8   statuses      20000 non-null  int64 \n",
            " 9   retweets      20000 non-null  int64 \n",
            " 10  label         20000 non-null  int64 \n",
            "dtypes: int64(9), object(2)\n",
            "memory usage: 1.7+ MB\n"
          ]
        }
      ]
    },
    {
      "cell_type": "code",
      "source": [
        "#describe to numerical values\n",
        "df.describe().T"
      ],
      "metadata": {
        "colab": {
          "base_uri": "https://localhost:8080/",
          "height": 331
        },
        "id": "dVGVLR4NCOM2",
        "outputId": "19a789f5-716b-4eb5-f6f7-562cbbcaa30c"
      },
      "execution_count": null,
      "outputs": [
        {
          "output_type": "execute_result",
          "data": {
            "text/plain": [
              "              count          mean           std           min           25%  \\\n",
              "Unnamed: 0  20000.0  9.999500e+03  5.773647e+03  0.000000e+00  4.999750e+03   \n",
              "post_id     20000.0  6.874728e+17  1.708396e+17  3.555966e+09  5.931686e+17   \n",
              "user_id     20000.0  3.548623e+16  1.606083e+17  1.472438e+07  3.242944e+08   \n",
              "followers   20000.0  9.004840e+02  1.899914e+03  0.000000e+00  1.770000e+02   \n",
              "friends     20000.0  7.824288e+02  1.834818e+03  0.000000e+00  2.110000e+02   \n",
              "favourites  20000.0  6.398236e+03  8.393073e+03  0.000000e+00  2.430000e+02   \n",
              "statuses    20000.0  4.439442e+04  1.407785e+05  3.000000e+00  5.129000e+03   \n",
              "retweets    20000.0  1.437927e+03  1.511967e+04  0.000000e+00  0.000000e+00   \n",
              "label       20000.0  5.000000e-01  5.000125e-01  0.000000e+00  0.000000e+00   \n",
              "\n",
              "                     50%           75%           max  \n",
              "Unnamed: 0  9.999500e+03  1.499925e+04  1.999900e+04  \n",
              "post_id     7.637400e+17  8.153124e+17  8.194574e+17  \n",
              "user_id     1.052122e+09  2.285923e+09  7.631825e+17  \n",
              "followers   4.760000e+02  1.197000e+03  2.861400e+04  \n",
              "friends     5.610000e+02  7.010000e+02  2.851400e+04  \n",
              "favourites  2.752000e+03  8.229000e+03  3.900800e+04  \n",
              "statuses    1.325100e+04  5.289200e+04  1.063601e+06  \n",
              "retweets    0.000000e+00  1.000000e+00  8.395400e+05  \n",
              "label       5.000000e-01  1.000000e+00  1.000000e+00  "
            ],
            "text/html": [
              "\n",
              "  <div id=\"df-74e5955f-c3e7-46db-892d-3d3d080e91b4\">\n",
              "    <div class=\"colab-df-container\">\n",
              "      <div>\n",
              "<style scoped>\n",
              "    .dataframe tbody tr th:only-of-type {\n",
              "        vertical-align: middle;\n",
              "    }\n",
              "\n",
              "    .dataframe tbody tr th {\n",
              "        vertical-align: top;\n",
              "    }\n",
              "\n",
              "    .dataframe thead th {\n",
              "        text-align: right;\n",
              "    }\n",
              "</style>\n",
              "<table border=\"1\" class=\"dataframe\">\n",
              "  <thead>\n",
              "    <tr style=\"text-align: right;\">\n",
              "      <th></th>\n",
              "      <th>count</th>\n",
              "      <th>mean</th>\n",
              "      <th>std</th>\n",
              "      <th>min</th>\n",
              "      <th>25%</th>\n",
              "      <th>50%</th>\n",
              "      <th>75%</th>\n",
              "      <th>max</th>\n",
              "    </tr>\n",
              "  </thead>\n",
              "  <tbody>\n",
              "    <tr>\n",
              "      <th>Unnamed: 0</th>\n",
              "      <td>20000.0</td>\n",
              "      <td>9.999500e+03</td>\n",
              "      <td>5.773647e+03</td>\n",
              "      <td>0.000000e+00</td>\n",
              "      <td>4.999750e+03</td>\n",
              "      <td>9.999500e+03</td>\n",
              "      <td>1.499925e+04</td>\n",
              "      <td>1.999900e+04</td>\n",
              "    </tr>\n",
              "    <tr>\n",
              "      <th>post_id</th>\n",
              "      <td>20000.0</td>\n",
              "      <td>6.874728e+17</td>\n",
              "      <td>1.708396e+17</td>\n",
              "      <td>3.555966e+09</td>\n",
              "      <td>5.931686e+17</td>\n",
              "      <td>7.637400e+17</td>\n",
              "      <td>8.153124e+17</td>\n",
              "      <td>8.194574e+17</td>\n",
              "    </tr>\n",
              "    <tr>\n",
              "      <th>user_id</th>\n",
              "      <td>20000.0</td>\n",
              "      <td>3.548623e+16</td>\n",
              "      <td>1.606083e+17</td>\n",
              "      <td>1.472438e+07</td>\n",
              "      <td>3.242944e+08</td>\n",
              "      <td>1.052122e+09</td>\n",
              "      <td>2.285923e+09</td>\n",
              "      <td>7.631825e+17</td>\n",
              "    </tr>\n",
              "    <tr>\n",
              "      <th>followers</th>\n",
              "      <td>20000.0</td>\n",
              "      <td>9.004840e+02</td>\n",
              "      <td>1.899914e+03</td>\n",
              "      <td>0.000000e+00</td>\n",
              "      <td>1.770000e+02</td>\n",
              "      <td>4.760000e+02</td>\n",
              "      <td>1.197000e+03</td>\n",
              "      <td>2.861400e+04</td>\n",
              "    </tr>\n",
              "    <tr>\n",
              "      <th>friends</th>\n",
              "      <td>20000.0</td>\n",
              "      <td>7.824288e+02</td>\n",
              "      <td>1.834818e+03</td>\n",
              "      <td>0.000000e+00</td>\n",
              "      <td>2.110000e+02</td>\n",
              "      <td>5.610000e+02</td>\n",
              "      <td>7.010000e+02</td>\n",
              "      <td>2.851400e+04</td>\n",
              "    </tr>\n",
              "    <tr>\n",
              "      <th>favourites</th>\n",
              "      <td>20000.0</td>\n",
              "      <td>6.398236e+03</td>\n",
              "      <td>8.393073e+03</td>\n",
              "      <td>0.000000e+00</td>\n",
              "      <td>2.430000e+02</td>\n",
              "      <td>2.752000e+03</td>\n",
              "      <td>8.229000e+03</td>\n",
              "      <td>3.900800e+04</td>\n",
              "    </tr>\n",
              "    <tr>\n",
              "      <th>statuses</th>\n",
              "      <td>20000.0</td>\n",
              "      <td>4.439442e+04</td>\n",
              "      <td>1.407785e+05</td>\n",
              "      <td>3.000000e+00</td>\n",
              "      <td>5.129000e+03</td>\n",
              "      <td>1.325100e+04</td>\n",
              "      <td>5.289200e+04</td>\n",
              "      <td>1.063601e+06</td>\n",
              "    </tr>\n",
              "    <tr>\n",
              "      <th>retweets</th>\n",
              "      <td>20000.0</td>\n",
              "      <td>1.437927e+03</td>\n",
              "      <td>1.511967e+04</td>\n",
              "      <td>0.000000e+00</td>\n",
              "      <td>0.000000e+00</td>\n",
              "      <td>0.000000e+00</td>\n",
              "      <td>1.000000e+00</td>\n",
              "      <td>8.395400e+05</td>\n",
              "    </tr>\n",
              "    <tr>\n",
              "      <th>label</th>\n",
              "      <td>20000.0</td>\n",
              "      <td>5.000000e-01</td>\n",
              "      <td>5.000125e-01</td>\n",
              "      <td>0.000000e+00</td>\n",
              "      <td>0.000000e+00</td>\n",
              "      <td>5.000000e-01</td>\n",
              "      <td>1.000000e+00</td>\n",
              "      <td>1.000000e+00</td>\n",
              "    </tr>\n",
              "  </tbody>\n",
              "</table>\n",
              "</div>\n",
              "      <button class=\"colab-df-convert\" onclick=\"convertToInteractive('df-74e5955f-c3e7-46db-892d-3d3d080e91b4')\"\n",
              "              title=\"Convert this dataframe to an interactive table.\"\n",
              "              style=\"display:none;\">\n",
              "        \n",
              "  <svg xmlns=\"http://www.w3.org/2000/svg\" height=\"24px\"viewBox=\"0 0 24 24\"\n",
              "       width=\"24px\">\n",
              "    <path d=\"M0 0h24v24H0V0z\" fill=\"none\"/>\n",
              "    <path d=\"M18.56 5.44l.94 2.06.94-2.06 2.06-.94-2.06-.94-.94-2.06-.94 2.06-2.06.94zm-11 1L8.5 8.5l.94-2.06 2.06-.94-2.06-.94L8.5 2.5l-.94 2.06-2.06.94zm10 10l.94 2.06.94-2.06 2.06-.94-2.06-.94-.94-2.06-.94 2.06-2.06.94z\"/><path d=\"M17.41 7.96l-1.37-1.37c-.4-.4-.92-.59-1.43-.59-.52 0-1.04.2-1.43.59L10.3 9.45l-7.72 7.72c-.78.78-.78 2.05 0 2.83L4 21.41c.39.39.9.59 1.41.59.51 0 1.02-.2 1.41-.59l7.78-7.78 2.81-2.81c.8-.78.8-2.07 0-2.86zM5.41 20L4 18.59l7.72-7.72 1.47 1.35L5.41 20z\"/>\n",
              "  </svg>\n",
              "      </button>\n",
              "      \n",
              "  <style>\n",
              "    .colab-df-container {\n",
              "      display:flex;\n",
              "      flex-wrap:wrap;\n",
              "      gap: 12px;\n",
              "    }\n",
              "\n",
              "    .colab-df-convert {\n",
              "      background-color: #E8F0FE;\n",
              "      border: none;\n",
              "      border-radius: 50%;\n",
              "      cursor: pointer;\n",
              "      display: none;\n",
              "      fill: #1967D2;\n",
              "      height: 32px;\n",
              "      padding: 0 0 0 0;\n",
              "      width: 32px;\n",
              "    }\n",
              "\n",
              "    .colab-df-convert:hover {\n",
              "      background-color: #E2EBFA;\n",
              "      box-shadow: 0px 1px 2px rgba(60, 64, 67, 0.3), 0px 1px 3px 1px rgba(60, 64, 67, 0.15);\n",
              "      fill: #174EA6;\n",
              "    }\n",
              "\n",
              "    [theme=dark] .colab-df-convert {\n",
              "      background-color: #3B4455;\n",
              "      fill: #D2E3FC;\n",
              "    }\n",
              "\n",
              "    [theme=dark] .colab-df-convert:hover {\n",
              "      background-color: #434B5C;\n",
              "      box-shadow: 0px 1px 3px 1px rgba(0, 0, 0, 0.15);\n",
              "      filter: drop-shadow(0px 1px 2px rgba(0, 0, 0, 0.3));\n",
              "      fill: #FFFFFF;\n",
              "    }\n",
              "  </style>\n",
              "\n",
              "      <script>\n",
              "        const buttonEl =\n",
              "          document.querySelector('#df-74e5955f-c3e7-46db-892d-3d3d080e91b4 button.colab-df-convert');\n",
              "        buttonEl.style.display =\n",
              "          google.colab.kernel.accessAllowed ? 'block' : 'none';\n",
              "\n",
              "        async function convertToInteractive(key) {\n",
              "          const element = document.querySelector('#df-74e5955f-c3e7-46db-892d-3d3d080e91b4');\n",
              "          const dataTable =\n",
              "            await google.colab.kernel.invokeFunction('convertToInteractive',\n",
              "                                                     [key], {});\n",
              "          if (!dataTable) return;\n",
              "\n",
              "          const docLinkHtml = 'Like what you see? Visit the ' +\n",
              "            '<a target=\"_blank\" href=https://colab.research.google.com/notebooks/data_table.ipynb>data table notebook</a>'\n",
              "            + ' to learn more about interactive tables.';\n",
              "          element.innerHTML = '';\n",
              "          dataTable['output_type'] = 'display_data';\n",
              "          await google.colab.output.renderOutput(dataTable, element);\n",
              "          const docLink = document.createElement('div');\n",
              "          docLink.innerHTML = docLinkHtml;\n",
              "          element.appendChild(docLink);\n",
              "        }\n",
              "      </script>\n",
              "    </div>\n",
              "  </div>\n",
              "  "
            ]
          },
          "metadata": {},
          "execution_count": 5
        }
      ]
    },
    {
      "cell_type": "code",
      "source": [
        "df.shape"
      ],
      "metadata": {
        "colab": {
          "base_uri": "https://localhost:8080/"
        },
        "id": "_AUFa94suHXt",
        "outputId": "adce364c-b6be-46eb-9343-ab63eae41505"
      },
      "execution_count": null,
      "outputs": [
        {
          "output_type": "execute_result",
          "data": {
            "text/plain": [
              "(20000, 11)"
            ]
          },
          "metadata": {},
          "execution_count": 6
        }
      ]
    },
    {
      "cell_type": "markdown",
      "source": [
        "Dropping Duplicate Rows"
      ],
      "metadata": {
        "id": "K73uh8SMEHc3"
      }
    },
    {
      "cell_type": "code",
      "source": [
        "df.drop_duplicates(inplace=True)\n",
        "df = df.reset_index(drop=True)"
      ],
      "metadata": {
        "id": "tVYKP9lJxPRk"
      },
      "execution_count": null,
      "outputs": []
    },
    {
      "cell_type": "code",
      "source": [
        "df.shape"
      ],
      "metadata": {
        "colab": {
          "base_uri": "https://localhost:8080/"
        },
        "id": "rZlTRJ2CxiDa",
        "outputId": "8b6e6ec7-524c-4b5b-de02-e9d31ea27238"
      },
      "execution_count": null,
      "outputs": [
        {
          "output_type": "execute_result",
          "data": {
            "text/plain": [
              "(20000, 11)"
            ]
          },
          "metadata": {},
          "execution_count": 8
        }
      ]
    },
    {
      "cell_type": "code",
      "source": [
        "#Checking wheteher data is imbalanced or not.\n",
        "# Calculate the counts of each label\n",
        "label_counts = df['label'].value_counts()\n",
        "\n",
        "# Plot the label imbalance\n",
        "plt.figure(figsize=(4, 3))\n",
        "label_counts.plot(kind='bar')\n",
        "plt.xlabel('Label')\n",
        "plt.ylabel('Count')\n",
        "plt.show()"
      ],
      "metadata": {
        "colab": {
          "base_uri": "https://localhost:8080/",
          "height": 306
        },
        "id": "jfnbCJtI-AKH",
        "outputId": "ed1e3283-61a3-4682-c9a7-f6e33badc7ab"
      },
      "execution_count": null,
      "outputs": [
        {
          "output_type": "display_data",
          "data": {
            "text/plain": [
              "<Figure size 400x300 with 1 Axes>"
            ],
            "image/png": "[encoded data removed]"
          },
          "metadata": {}
        }
      ]
    },
    {
      "cell_type": "markdown",
      "source": [
        "Inference : Data is balanced."
      ],
      "metadata": {
        "id": "_m6Xq0s-_PLe"
      }
    },
    {
      "cell_type": "markdown",
      "source": [
        "Checking Null values."
      ],
      "metadata": {
        "id": "6bDwztBc_iY3"
      }
    },
    {
      "cell_type": "code",
      "source": [
        "# Calculate the percentage of NaN values in each column\n",
        "NAN = [(c, df[c].isna().mean() * 100) for c in df.columns]\n",
        "\n",
        "# Convert the list to a DataFrame\n",
        "NAN = pd.DataFrame(NAN, columns=[\"column_name\", \"percentage\"])\n",
        "\n",
        "# Print the NaN percentages\n",
        "print(NAN)\n"
      ],
      "metadata": {
        "colab": {
          "base_uri": "https://localhost:8080/"
        },
        "id": "M6R-UvsHuQm2",
        "outputId": "c37d07ac-bce0-4938-b6eb-92e5e2c2727a"
      },
      "execution_count": null,
      "outputs": [
        {
          "output_type": "stream",
          "name": "stdout",
          "text": [
            "     column_name  percentage\n",
            "0     Unnamed: 0         0.0\n",
            "1        post_id         0.0\n",
            "2   post_created         0.0\n",
            "3      post_text         0.0\n",
            "4        user_id         0.0\n",
            "5      followers         0.0\n",
            "6        friends         0.0\n",
            "7     favourites         0.0\n",
            "8       statuses         0.0\n",
            "9       retweets         0.0\n",
            "10         label         0.0\n"
          ]
        }
      ]
    },
    {
      "cell_type": "code",
      "source": [
        "df.drop(\"Unnamed: 0\", axis=1, inplace=True)\n",
        "df.drop(\"post_id\", axis=1, inplace=True)\n",
        "df.drop(\"user_id\", axis=1, inplace=True)"
      ],
      "metadata": {
        "id": "W095Mm3nvTFI"
      },
      "execution_count": null,
      "outputs": []
    },
    {
      "cell_type": "markdown",
      "source": [
        "Feature  Extraction"
      ],
      "metadata": {
        "id": "Fcvb9x4HBtUB"
      }
    },
    {
      "cell_type": "code",
      "source": [
        "df.post_created=df.post_created.apply(pd.to_datetime)\n",
        "\n",
        "df[\"month\"]=df.post_created.dt.month\n",
        "df[\"year\"]=df.post_created.dt.year\n",
        "\n",
        "df.drop(\"post_created\", axis=1, inplace=True)"
      ],
      "metadata": {
        "id": "JzC_eZMVvn0S"
      },
      "execution_count": null,
      "outputs": []
    },
    {
      "cell_type": "code",
      "source": [
        "df.head()"
      ],
      "metadata": {
        "colab": {
          "base_uri": "https://localhost:8080/",
          "height": 206
        },
        "id": "yowJF2WYwjZk",
        "outputId": "43a07fa7-e979-41f1-97e7-68f566c2bc61"
      },
      "execution_count": null,
      "outputs": [
        {
          "output_type": "execute_result",
          "data": {
            "text/plain": [
              "                                           post_text  followers  friends  \\\n",
              "0  It's just over 2 years since I was diagnosed w...         84      211   \n",
              "1  It's Sunday, I need a break, so I'm planning t...         84      211   \n",
              "2  Awake but tired. I need to sleep but my brain ...         84      211   \n",
              "3  RT @SewHQ: #Retro bears make perfect gifts and...         84      211   \n",
              "4  It’s hard to say whether packing lists are mak...         84      211   \n",
              "\n",
              "   favourites  statuses  retweets  label  month  year  \n",
              "0         251       837         0      1      8  2015  \n",
              "1         251       837         1      1      8  2015  \n",
              "2         251       837         0      1      8  2015  \n",
              "3         251       837         2      1      8  2015  \n",
              "4         251       837         1      1      8  2015  "
            ],
            "text/html": [
              "\n",
              "  <div id=\"df-90a46d56-0aff-4d73-aed6-7f110ce7f352\">\n",
              "    <div class=\"colab-df-container\">\n",
              "      <div>\n",
              "<style scoped>\n",
              "    .dataframe tbody tr th:only-of-type {\n",
              "        vertical-align: middle;\n",
              "    }\n",
              "\n",
              "    .dataframe tbody tr th {\n",
              "        vertical-align: top;\n",
              "    }\n",
              "\n",
              "    .dataframe thead th {\n",
              "        text-align: right;\n",
              "    }\n",
              "</style>\n",
              "<table border=\"1\" class=\"dataframe\">\n",
              "  <thead>\n",
              "    <tr style=\"text-align: right;\">\n",
              "      <th></th>\n",
              "      <th>post_text</th>\n",
              "      <th>followers</th>\n",
              "      <th>friends</th>\n",
              "      <th>favourites</th>\n",
              "      <th>statuses</th>\n",
              "      <th>retweets</th>\n",
              "      <th>label</th>\n",
              "      <th>month</th>\n",
              "      <th>year</th>\n",
              "    </tr>\n",
              "  </thead>\n",
              "  <tbody>\n",
              "    <tr>\n",
              "      <th>0</th>\n",
              "      <td>It's just over 2 years since I was diagnosed w...</td>\n",
              "      <td>84</td>\n",
              "      <td>211</td>\n",
              "      <td>251</td>\n",
              "      <td>837</td>\n",
              "      <td>0</td>\n",
              "      <td>1</td>\n",
              "      <td>8</td>\n",
              "      <td>2015</td>\n",
              "    </tr>\n",
              "    <tr>\n",
              "      <th>1</th>\n",
              "      <td>It's Sunday, I need a break, so I'm planning t...</td>\n",
              "      <td>84</td>\n",
              "      <td>211</td>\n",
              "      <td>251</td>\n",
              "      <td>837</td>\n",
              "      <td>1</td>\n",
              "      <td>1</td>\n",
              "      <td>8</td>\n",
              "      <td>2015</td>\n",
              "    </tr>\n",
              "    <tr>\n",
              "      <th>2</th>\n",
              "      <td>Awake but tired. I need to sleep but my brain ...</td>\n",
              "      <td>84</td>\n",
              "      <td>211</td>\n",
              "      <td>251</td>\n",
              "      <td>837</td>\n",
              "      <td>0</td>\n",
              "      <td>1</td>\n",
              "      <td>8</td>\n",
              "      <td>2015</td>\n",
              "    </tr>\n",
              "    <tr>\n",
              "      <th>3</th>\n",
              "      <td>RT @SewHQ: #Retro bears make perfect gifts and...</td>\n",
              "      <td>84</td>\n",
              "      <td>211</td>\n",
              "      <td>251</td>\n",
              "      <td>837</td>\n",
              "      <td>2</td>\n",
              "      <td>1</td>\n",
              "      <td>8</td>\n",
              "      <td>2015</td>\n",
              "    </tr>\n",
              "    <tr>\n",
              "      <th>4</th>\n",
              "      <td>It’s hard to say whether packing lists are mak...</td>\n",
              "      <td>84</td>\n",
              "      <td>211</td>\n",
              "      <td>251</td>\n",
              "      <td>837</td>\n",
              "      <td>1</td>\n",
              "      <td>1</td>\n",
              "      <td>8</td>\n",
              "      <td>2015</td>\n",
              "    </tr>\n",
              "  </tbody>\n",
              "</table>\n",
              "</div>\n",
              "      <button class=\"colab-df-convert\" onclick=\"convertToInteractive('df-90a46d56-0aff-4d73-aed6-7f110ce7f352')\"\n",
              "              title=\"Convert this dataframe to an interactive table.\"\n",
              "              style=\"display:none;\">\n",
              "        \n",
              "  <svg xmlns=\"http://www.w3.org/2000/svg\" height=\"24px\"viewBox=\"0 0 24 24\"\n",
              "       width=\"24px\">\n",
              "    <path d=\"M0 0h24v24H0V0z\" fill=\"none\"/>\n",
              "    <path d=\"M18.56 5.44l.94 2.06.94-2.06 2.06-.94-2.06-.94-.94-2.06-.94 2.06-2.06.94zm-11 1L8.5 8.5l.94-2.06 2.06-.94-2.06-.94L8.5 2.5l-.94 2.06-2.06.94zm10 10l.94 2.06.94-2.06 2.06-.94-2.06-.94-.94-2.06-.94 2.06-2.06.94z\"/><path d=\"M17.41 7.96l-1.37-1.37c-.4-.4-.92-.59-1.43-.59-.52 0-1.04.2-1.43.59L10.3 9.45l-7.72 7.72c-.78.78-.78 2.05 0 2.83L4 21.41c.39.39.9.59 1.41.59.51 0 1.02-.2 1.41-.59l7.78-7.78 2.81-2.81c.8-.78.8-2.07 0-2.86zM5.41 20L4 18.59l7.72-7.72 1.47 1.35L5.41 20z\"/>\n",
              "  </svg>\n",
              "      </button>\n",
              "      \n",
              "  <style>\n",
              "    .colab-df-container {\n",
              "      display:flex;\n",
              "      flex-wrap:wrap;\n",
              "      gap: 12px;\n",
              "    }\n",
              "\n",
              "    .colab-df-convert {\n",
              "      background-color: #E8F0FE;\n",
              "      border: none;\n",
              "      border-radius: 50%;\n",
              "      cursor: pointer;\n",
              "      display: none;\n",
              "      fill: #1967D2;\n",
              "      height: 32px;\n",
              "      padding: 0 0 0 0;\n",
              "      width: 32px;\n",
              "    }\n",
              "\n",
              "    .colab-df-convert:hover {\n",
              "      background-color: #E2EBFA;\n",
              "      box-shadow: 0px 1px 2px rgba(60, 64, 67, 0.3), 0px 1px 3px 1px rgba(60, 64, 67, 0.15);\n",
              "      fill: #174EA6;\n",
              "    }\n",
              "\n",
              "    [theme=dark] .colab-df-convert {\n",
              "      background-color: #3B4455;\n",
              "      fill: #D2E3FC;\n",
              "    }\n",
              "\n",
              "    [theme=dark] .colab-df-convert:hover {\n",
              "      background-color: #434B5C;\n",
              "      box-shadow: 0px 1px 3px 1px rgba(0, 0, 0, 0.15);\n",
              "      filter: drop-shadow(0px 1px 2px rgba(0, 0, 0, 0.3));\n",
              "      fill: #FFFFFF;\n",
              "    }\n",
              "  </style>\n",
              "\n",
              "      <script>\n",
              "        const buttonEl =\n",
              "          document.querySelector('#df-90a46d56-0aff-4d73-aed6-7f110ce7f352 button.colab-df-convert');\n",
              "        buttonEl.style.display =\n",
              "          google.colab.kernel.accessAllowed ? 'block' : 'none';\n",
              "\n",
              "        async function convertToInteractive(key) {\n",
              "          const element = document.querySelector('#df-90a46d56-0aff-4d73-aed6-7f110ce7f352');\n",
              "          const dataTable =\n",
              "            await google.colab.kernel.invokeFunction('convertToInteractive',\n",
              "                                                     [key], {});\n",
              "          if (!dataTable) return;\n",
              "\n",
              "          const docLinkHtml = 'Like what you see? Visit the ' +\n",
              "            '<a target=\"_blank\" href=https://colab.research.google.com/notebooks/data_table.ipynb>data table notebook</a>'\n",
              "            + ' to learn more about interactive tables.';\n",
              "          element.innerHTML = '';\n",
              "          dataTable['output_type'] = 'display_data';\n",
              "          await google.colab.output.renderOutput(dataTable, element);\n",
              "          const docLink = document.createElement('div');\n",
              "          docLink.innerHTML = docLinkHtml;\n",
              "          element.appendChild(docLink);\n",
              "        }\n",
              "      </script>\n",
              "    </div>\n",
              "  </div>\n",
              "  "
            ]
          },
          "metadata": {},
          "execution_count": 13
        }
      ]
    },
    {
      "cell_type": "markdown",
      "source": [
        "Correlation"
      ],
      "metadata": {
        "id": "UtdhUeQ9_1av"
      }
    },
    {
      "cell_type": "code",
      "source": [
        "# Exclude \"Month\" and \"Year\" columns from the correlation calculation\n",
        "df_subset = df.drop(columns=['month', 'year'])\n",
        "df_subset.corr()"
      ],
      "metadata": {
        "colab": {
          "base_uri": "https://localhost:8080/",
          "height": 292
        },
        "id": "liioUegivgq4",
        "outputId": "cac1765f-1137-4759-e060-64c46deee4be"
      },
      "execution_count": null,
      "outputs": [
        {
          "output_type": "stream",
          "name": "stderr",
          "text": [
            "<ipython-input-14-011c7b2deeb9>:3: FutureWarning: The default value of numeric_only in DataFrame.corr is deprecated. In a future version, it will default to False. Select only valid columns or specify the value of numeric_only to silence this warning.\n",
            "  df_subset.corr()\n"
          ]
        },
        {
          "output_type": "execute_result",
          "data": {
            "text/plain": [
              "            followers   friends  favourites  statuses  retweets     label\n",
              "followers    1.000000  0.891919   -0.016242 -0.000215  0.001500 -0.011181\n",
              "friends      0.891919  1.000000   -0.081756 -0.045420  0.009946  0.119818\n",
              "favourites  -0.016242 -0.081756    1.000000 -0.053930  0.069551 -0.252289\n",
              "statuses    -0.000215 -0.045420   -0.053930  1.000000 -0.005193 -0.246473\n",
              "retweets     0.001500  0.009946    0.069551 -0.005193  1.000000 -0.025198\n",
              "label       -0.011181  0.119818   -0.252289 -0.246473 -0.025198  1.000000"
            ],
            "text/html": [
              "\n",
              "  <div id=\"df-384b1748-5a0c-4e5a-aaee-11a4c37957fa\">\n",
              "    <div class=\"colab-df-container\">\n",
              "      <div>\n",
              "<style scoped>\n",
              "    .dataframe tbody tr th:only-of-type {\n",
              "        vertical-align: middle;\n",
              "    }\n",
              "\n",
              "    .dataframe tbody tr th {\n",
              "        vertical-align: top;\n",
              "    }\n",
              "\n",
              "    .dataframe thead th {\n",
              "        text-align: right;\n",
              "    }\n",
              "</style>\n",
              "<table border=\"1\" class=\"dataframe\">\n",
              "  <thead>\n",
              "    <tr style=\"text-align: right;\">\n",
              "      <th></th>\n",
              "      <th>followers</th>\n",
              "      <th>friends</th>\n",
              "      <th>favourites</th>\n",
              "      <th>statuses</th>\n",
              "      <th>retweets</th>\n",
              "      <th>label</th>\n",
              "    </tr>\n",
              "  </thead>\n",
              "  <tbody>\n",
              "    <tr>\n",
              "      <th>followers</th>\n",
              "      <td>1.000000</td>\n",
              "      <td>0.891919</td>\n",
              "      <td>-0.016242</td>\n",
              "      <td>-0.000215</td>\n",
              "      <td>0.001500</td>\n",
              "      <td>-0.011181</td>\n",
              "    </tr>\n",
              "    <tr>\n",
              "      <th>friends</th>\n",
              "      <td>0.891919</td>\n",
              "      <td>1.000000</td>\n",
              "      <td>-0.081756</td>\n",
              "      <td>-0.045420</td>\n",
              "      <td>0.009946</td>\n",
              "      <td>0.119818</td>\n",
              "    </tr>\n",
              "    <tr>\n",
              "      <th>favourites</th>\n",
              "      <td>-0.016242</td>\n",
              "      <td>-0.081756</td>\n",
              "      <td>1.000000</td>\n",
              "      <td>-0.053930</td>\n",
              "      <td>0.069551</td>\n",
              "      <td>-0.252289</td>\n",
              "    </tr>\n",
              "    <tr>\n",
              "      <th>statuses</th>\n",
              "      <td>-0.000215</td>\n",
              "      <td>-0.045420</td>\n",
              "      <td>-0.053930</td>\n",
              "      <td>1.000000</td>\n",
              "      <td>-0.005193</td>\n",
              "      <td>-0.246473</td>\n",
              "    </tr>\n",
              "    <tr>\n",
              "      <th>retweets</th>\n",
              "      <td>0.001500</td>\n",
              "      <td>0.009946</td>\n",
              "      <td>0.069551</td>\n",
              "      <td>-0.005193</td>\n",
              "      <td>1.000000</td>\n",
              "      <td>-0.025198</td>\n",
              "    </tr>\n",
              "    <tr>\n",
              "      <th>label</th>\n",
              "      <td>-0.011181</td>\n",
              "      <td>0.119818</td>\n",
              "      <td>-0.252289</td>\n",
              "      <td>-0.246473</td>\n",
              "      <td>-0.025198</td>\n",
              "      <td>1.000000</td>\n",
              "    </tr>\n",
              "  </tbody>\n",
              "</table>\n",
              "</div>\n",
              "      <button class=\"colab-df-convert\" onclick=\"convertToInteractive('df-384b1748-5a0c-4e5a-aaee-11a4c37957fa')\"\n",
              "              title=\"Convert this dataframe to an interactive table.\"\n",
              "              style=\"display:none;\">\n",
              "        \n",
              "  <svg xmlns=\"http://www.w3.org/2000/svg\" height=\"24px\"viewBox=\"0 0 24 24\"\n",
              "       width=\"24px\">\n",
              "    <path d=\"M0 0h24v24H0V0z\" fill=\"none\"/>\n",
              "    <path d=\"M18.56 5.44l.94 2.06.94-2.06 2.06-.94-2.06-.94-.94-2.06-.94 2.06-2.06.94zm-11 1L8.5 8.5l.94-2.06 2.06-.94-2.06-.94L8.5 2.5l-.94 2.06-2.06.94zm10 10l.94 2.06.94-2.06 2.06-.94-2.06-.94-.94-2.06-.94 2.06-2.06.94z\"/><path d=\"M17.41 7.96l-1.37-1.37c-.4-.4-.92-.59-1.43-.59-.52 0-1.04.2-1.43.59L10.3 9.45l-7.72 7.72c-.78.78-.78 2.05 0 2.83L4 21.41c.39.39.9.59 1.41.59.51 0 1.02-.2 1.41-.59l7.78-7.78 2.81-2.81c.8-.78.8-2.07 0-2.86zM5.41 20L4 18.59l7.72-7.72 1.47 1.35L5.41 20z\"/>\n",
              "  </svg>\n",
              "      </button>\n",
              "      \n",
              "  <style>\n",
              "    .colab-df-container {\n",
              "      display:flex;\n",
              "      flex-wrap:wrap;\n",
              "      gap: 12px;\n",
              "    }\n",
              "\n",
              "    .colab-df-convert {\n",
              "      background-color: #E8F0FE;\n",
              "      border: none;\n",
              "      border-radius: 50%;\n",
              "      cursor: pointer;\n",
              "      display: none;\n",
              "      fill: #1967D2;\n",
              "      height: 32px;\n",
              "      padding: 0 0 0 0;\n",
              "      width: 32px;\n",
              "    }\n",
              "\n",
              "    .colab-df-convert:hover {\n",
              "      background-color: #E2EBFA;\n",
              "      box-shadow: 0px 1px 2px rgba(60, 64, 67, 0.3), 0px 1px 3px 1px rgba(60, 64, 67, 0.15);\n",
              "      fill: #174EA6;\n",
              "    }\n",
              "\n",
              "    [theme=dark] .colab-df-convert {\n",
              "      background-color: #3B4455;\n",
              "      fill: #D2E3FC;\n",
              "    }\n",
              "\n",
              "    [theme=dark] .colab-df-convert:hover {\n",
              "      background-color: #434B5C;\n",
              "      box-shadow: 0px 1px 3px 1px rgba(0, 0, 0, 0.15);\n",
              "      filter: drop-shadow(0px 1px 2px rgba(0, 0, 0, 0.3));\n",
              "      fill: #FFFFFF;\n",
              "    }\n",
              "  </style>\n",
              "\n",
              "      <script>\n",
              "        const buttonEl =\n",
              "          document.querySelector('#df-384b1748-5a0c-4e5a-aaee-11a4c37957fa button.colab-df-convert');\n",
              "        buttonEl.style.display =\n",
              "          google.colab.kernel.accessAllowed ? 'block' : 'none';\n",
              "\n",
              "        async function convertToInteractive(key) {\n",
              "          const element = document.querySelector('#df-384b1748-5a0c-4e5a-aaee-11a4c37957fa');\n",
              "          const dataTable =\n",
              "            await google.colab.kernel.invokeFunction('convertToInteractive',\n",
              "                                                     [key], {});\n",
              "          if (!dataTable) return;\n",
              "\n",
              "          const docLinkHtml = 'Like what you see? Visit the ' +\n",
              "            '<a target=\"_blank\" href=https://colab.research.google.com/notebooks/data_table.ipynb>data table notebook</a>'\n",
              "            + ' to learn more about interactive tables.';\n",
              "          element.innerHTML = '';\n",
              "          dataTable['output_type'] = 'display_data';\n",
              "          await google.colab.output.renderOutput(dataTable, element);\n",
              "          const docLink = document.createElement('div');\n",
              "          docLink.innerHTML = docLinkHtml;\n",
              "          element.appendChild(docLink);\n",
              "        }\n",
              "      </script>\n",
              "    </div>\n",
              "  </div>\n",
              "  "
            ]
          },
          "metadata": {},
          "execution_count": 14
        }
      ]
    },
    {
      "cell_type": "code",
      "source": [
        "# Exclude \"Month\" and \"Year\" columns from the correlation calculation\n",
        "df_subset = df.drop(columns=['month', 'year'])\n",
        "\n",
        "# Calculate the correlation matrix\n",
        "correlation_matrix = df_subset.corr()\n",
        "\n",
        "\n",
        "# Plot the correlation matrix\n",
        "plt.figure(figsize=(10, 5))\n",
        "sns.heatmap(correlation_matrix, annot=True, cmap='coolwarm')\n",
        "plt.title('Correlation Plot')\n",
        "plt.show()"
      ],
      "metadata": {
        "colab": {
          "base_uri": "https://localhost:8080/",
          "height": 523
        },
        "id": "qm1VJyIBAOyX",
        "outputId": "0c8636b0-37f2-4873-9a73-cc93c6aeaaf5"
      },
      "execution_count": null,
      "outputs": [
        {
          "output_type": "stream",
          "name": "stderr",
          "text": [
            "<ipython-input-15-95a8d51b594a>:5: FutureWarning: The default value of numeric_only in DataFrame.corr is deprecated. In a future version, it will default to False. Select only valid columns or specify the value of numeric_only to silence this warning.\n",
            "  correlation_matrix = df_subset.corr()\n"
          ]
        },
        {
          "output_type": "display_data",
          "data": {
            "text/plain": [
              "<Figure size 1000x500 with 2 Axes>"
            ],
            "image/png": "[encoded data removed]"
          },
          "metadata": {}
        }
      ]
    },
    {
      "cell_type": "markdown",
      "source": [
        "**Text Preprocessing**"
      ],
      "metadata": {
        "id": "vmqY49Qrw2dD"
      }
    },
    {
      "cell_type": "code",
      "source": [
        "import re\n",
        "import string\n",
        "from nltk.tokenize import word_tokenize\n",
        "from nltk.corpus import stopwords\n",
        "from nltk.stem.wordnet import WordNetLemmatizer"
      ],
      "metadata": {
        "id": "VthFuV5Yw0fv"
      },
      "execution_count": null,
      "outputs": []
    },
    {
      "cell_type": "code",
      "source": [
        "df[\"post_text\"] = df[\"post_text\"].apply(lambda x: \" \".join(x.lower() for x in x.split())) #converting to lower case"
      ],
      "metadata": {
        "id": "Z_yLh5aIzEwq"
      },
      "execution_count": null,
      "outputs": []
    },
    {
      "cell_type": "code",
      "source": [
        "df[\"post_text\"] = df[\"post_text\"].str.replace(\"\\d\",\"\")   #removing numerical values"
      ],
      "metadata": {
        "colab": {
          "base_uri": "https://localhost:8080/"
        },
        "id": "tjgcmRkNzJSB",
        "outputId": "82945e24-92ca-45c9-e55b-71af46fd8da8"
      },
      "execution_count": null,
      "outputs": [
        {
          "output_type": "stream",
          "name": "stderr",
          "text": [
            "<ipython-input-18-15ca4c19b9e2>:1: FutureWarning: The default value of regex will change from True to False in a future version.\n",
            "  df[\"post_text\"] = df[\"post_text\"].str.replace(\"\\d\",\"\")   #removing numerical values\n"
          ]
        }
      ]
    },
    {
      "cell_type": "code",
      "source": [
        "df[\"post_text\"] = df[\"post_text\"].str.replace(\"[^\\w\\s]\",\"\") #removing punctuations"
      ],
      "metadata": {
        "colab": {
          "base_uri": "https://localhost:8080/"
        },
        "id": "lq5HJ1Fp1ePi",
        "outputId": "fa83145a-b7da-4ed4-b319-8ca19a8f4be8"
      },
      "execution_count": null,
      "outputs": [
        {
          "output_type": "stream",
          "name": "stderr",
          "text": [
            "<ipython-input-19-035f869043ee>:1: FutureWarning: The default value of regex will change from True to False in a future version.\n",
            "  df[\"post_text\"] = df[\"post_text\"].str.replace(\"[^\\w\\s]\",\"\") #removing punctuations\n"
          ]
        }
      ]
    },
    {
      "cell_type": "code",
      "source": [
        "df"
      ],
      "metadata": {
        "colab": {
          "base_uri": "https://localhost:8080/",
          "height": 423
        },
        "id": "-HAklKj7zSOv",
        "outputId": "34b72f88-a911-47eb-b64a-35ea12b61e76"
      },
      "execution_count": null,
      "outputs": [
        {
          "output_type": "execute_result",
          "data": {
            "text/plain": [
              "                                               post_text  followers  friends  \\\n",
              "0      its just over  years since i was diagnosed wit...         84      211   \n",
              "1      its sunday i need a break so im planning to sp...         84      211   \n",
              "2      awake but tired i need to sleep but my brain h...         84      211   \n",
              "3      rt sewhq retro bears make perfect gifts and ar...         84      211   \n",
              "4      its hard to say whether packing lists are maki...         84      211   \n",
              "...                                                  ...        ...      ...   \n",
              "19995               a day without sunshine is like night        442      230   \n",
              "19996  borens laws  when in charge ponder  when in tr...        442      230   \n",
              "19997  the flow chart is a most thoroughly oversold p...        442      230   \n",
              "19998  ships are safe in harbor but they were never m...        442      230   \n",
              "19999      black holes are where god is dividing by zero        442      230   \n",
              "\n",
              "       favourites  statuses  retweets  label  month  year  \n",
              "0             251       837         0      1      8  2015  \n",
              "1             251       837         1      1      8  2015  \n",
              "2             251       837         0      1      8  2015  \n",
              "3             251       837         2      1      8  2015  \n",
              "4             251       837         1      1      8  2015  \n",
              "...           ...       ...       ...    ...    ...   ...  \n",
              "19995           7   1063601         0      0      1  2017  \n",
              "19996           7   1063601         0      0      1  2017  \n",
              "19997           7   1063601         0      0      1  2017  \n",
              "19998           7   1063601         0      0      1  2017  \n",
              "19999           7   1063601         0      0      1  2017  \n",
              "\n",
              "[20000 rows x 9 columns]"
            ],
            "text/html": [
              "\n",
              "  <div id=\"df-41bd84f3-fe00-4e8a-8fcd-fd0c3b2d71ea\">\n",
              "    <div class=\"colab-df-container\">\n",
              "      <div>\n",
              "<style scoped>\n",
              "    .dataframe tbody tr th:only-of-type {\n",
              "        vertical-align: middle;\n",
              "    }\n",
              "\n",
              "    .dataframe tbody tr th {\n",
              "        vertical-align: top;\n",
              "    }\n",
              "\n",
              "    .dataframe thead th {\n",
              "        text-align: right;\n",
              "    }\n",
              "</style>\n",
              "<table border=\"1\" class=\"dataframe\">\n",
              "  <thead>\n",
              "    <tr style=\"text-align: right;\">\n",
              "      <th></th>\n",
              "      <th>post_text</th>\n",
              "      <th>followers</th>\n",
              "      <th>friends</th>\n",
              "      <th>favourites</th>\n",
              "      <th>statuses</th>\n",
              "      <th>retweets</th>\n",
              "      <th>label</th>\n",
              "      <th>month</th>\n",
              "      <th>year</th>\n",
              "    </tr>\n",
              "  </thead>\n",
              "  <tbody>\n",
              "    <tr>\n",
              "      <th>0</th>\n",
              "      <td>its just over  years since i was diagnosed wit...</td>\n",
              "      <td>84</td>\n",
              "      <td>211</td>\n",
              "      <td>251</td>\n",
              "      <td>837</td>\n",
              "      <td>0</td>\n",
              "      <td>1</td>\n",
              "      <td>8</td>\n",
              "      <td>2015</td>\n",
              "    </tr>\n",
              "    <tr>\n",
              "      <th>1</th>\n",
              "      <td>its sunday i need a break so im planning to sp...</td>\n",
              "      <td>84</td>\n",
              "      <td>211</td>\n",
              "      <td>251</td>\n",
              "      <td>837</td>\n",
              "      <td>1</td>\n",
              "      <td>1</td>\n",
              "      <td>8</td>\n",
              "      <td>2015</td>\n",
              "    </tr>\n",
              "    <tr>\n",
              "      <th>2</th>\n",
              "      <td>awake but tired i need to sleep but my brain h...</td>\n",
              "      <td>84</td>\n",
              "      <td>211</td>\n",
              "      <td>251</td>\n",
              "      <td>837</td>\n",
              "      <td>0</td>\n",
              "      <td>1</td>\n",
              "      <td>8</td>\n",
              "      <td>2015</td>\n",
              "    </tr>\n",
              "    <tr>\n",
              "      <th>3</th>\n",
              "      <td>rt sewhq retro bears make perfect gifts and ar...</td>\n",
              "      <td>84</td>\n",
              "      <td>211</td>\n",
              "      <td>251</td>\n",
              "      <td>837</td>\n",
              "      <td>2</td>\n",
              "      <td>1</td>\n",
              "      <td>8</td>\n",
              "      <td>2015</td>\n",
              "    </tr>\n",
              "    <tr>\n",
              "      <th>4</th>\n",
              "      <td>its hard to say whether packing lists are maki...</td>\n",
              "      <td>84</td>\n",
              "      <td>211</td>\n",
              "      <td>251</td>\n",
              "      <td>837</td>\n",
              "      <td>1</td>\n",
              "      <td>1</td>\n",
              "      <td>8</td>\n",
              "      <td>2015</td>\n",
              "    </tr>\n",
              "    <tr>\n",
              "      <th>...</th>\n",
              "      <td>...</td>\n",
              "      <td>...</td>\n",
              "      <td>...</td>\n",
              "      <td>...</td>\n",
              "      <td>...</td>\n",
              "      <td>...</td>\n",
              "      <td>...</td>\n",
              "      <td>...</td>\n",
              "      <td>...</td>\n",
              "    </tr>\n",
              "    <tr>\n",
              "      <th>19995</th>\n",
              "      <td>a day without sunshine is like night</td>\n",
              "      <td>442</td>\n",
              "      <td>230</td>\n",
              "      <td>7</td>\n",
              "      <td>1063601</td>\n",
              "      <td>0</td>\n",
              "      <td>0</td>\n",
              "      <td>1</td>\n",
              "      <td>2017</td>\n",
              "    </tr>\n",
              "    <tr>\n",
              "      <th>19996</th>\n",
              "      <td>borens laws  when in charge ponder  when in tr...</td>\n",
              "      <td>442</td>\n",
              "      <td>230</td>\n",
              "      <td>7</td>\n",
              "      <td>1063601</td>\n",
              "      <td>0</td>\n",
              "      <td>0</td>\n",
              "      <td>1</td>\n",
              "      <td>2017</td>\n",
              "    </tr>\n",
              "    <tr>\n",
              "      <th>19997</th>\n",
              "      <td>the flow chart is a most thoroughly oversold p...</td>\n",
              "      <td>442</td>\n",
              "      <td>230</td>\n",
              "      <td>7</td>\n",
              "      <td>1063601</td>\n",
              "      <td>0</td>\n",
              "      <td>0</td>\n",
              "      <td>1</td>\n",
              "      <td>2017</td>\n",
              "    </tr>\n",
              "    <tr>\n",
              "      <th>19998</th>\n",
              "      <td>ships are safe in harbor but they were never m...</td>\n",
              "      <td>442</td>\n",
              "      <td>230</td>\n",
              "      <td>7</td>\n",
              "      <td>1063601</td>\n",
              "      <td>0</td>\n",
              "      <td>0</td>\n",
              "      <td>1</td>\n",
              "      <td>2017</td>\n",
              "    </tr>\n",
              "    <tr>\n",
              "      <th>19999</th>\n",
              "      <td>black holes are where god is dividing by zero</td>\n",
              "      <td>442</td>\n",
              "      <td>230</td>\n",
              "      <td>7</td>\n",
              "      <td>1063601</td>\n",
              "      <td>0</td>\n",
              "      <td>0</td>\n",
              "      <td>1</td>\n",
              "      <td>2017</td>\n",
              "    </tr>\n",
              "  </tbody>\n",
              "</table>\n",
              "<p>20000 rows × 9 columns</p>\n",
              "</div>\n",
              "      <button class=\"colab-df-convert\" onclick=\"convertToInteractive('df-41bd84f3-fe00-4e8a-8fcd-fd0c3b2d71ea')\"\n",
              "              title=\"Convert this dataframe to an interactive table.\"\n",
              "              style=\"display:none;\">\n",
              "        \n",
              "  <svg xmlns=\"http://www.w3.org/2000/svg\" height=\"24px\"viewBox=\"0 0 24 24\"\n",
              "       width=\"24px\">\n",
              "    <path d=\"M0 0h24v24H0V0z\" fill=\"none\"/>\n",
              "    <path d=\"M18.56 5.44l.94 2.06.94-2.06 2.06-.94-2.06-.94-.94-2.06-.94 2.06-2.06.94zm-11 1L8.5 8.5l.94-2.06 2.06-.94-2.06-.94L8.5 2.5l-.94 2.06-2.06.94zm10 10l.94 2.06.94-2.06 2.06-.94-2.06-.94-.94-2.06-.94 2.06-2.06.94z\"/><path d=\"M17.41 7.96l-1.37-1.37c-.4-.4-.92-.59-1.43-.59-.52 0-1.04.2-1.43.59L10.3 9.45l-7.72 7.72c-.78.78-.78 2.05 0 2.83L4 21.41c.39.39.9.59 1.41.59.51 0 1.02-.2 1.41-.59l7.78-7.78 2.81-2.81c.8-.78.8-2.07 0-2.86zM5.41 20L4 18.59l7.72-7.72 1.47 1.35L5.41 20z\"/>\n",
              "  </svg>\n",
              "      </button>\n",
              "      \n",
              "  <style>\n",
              "    .colab-df-container {\n",
              "      display:flex;\n",
              "      flex-wrap:wrap;\n",
              "      gap: 12px;\n",
              "    }\n",
              "\n",
              "    .colab-df-convert {\n",
              "      background-color: #E8F0FE;\n",
              "      border: none;\n",
              "      border-radius: 50%;\n",
              "      cursor: pointer;\n",
              "      display: none;\n",
              "      fill: #1967D2;\n",
              "      height: 32px;\n",
              "      padding: 0 0 0 0;\n",
              "      width: 32px;\n",
              "    }\n",
              "\n",
              "    .colab-df-convert:hover {\n",
              "      background-color: #E2EBFA;\n",
              "      box-shadow: 0px 1px 2px rgba(60, 64, 67, 0.3), 0px 1px 3px 1px rgba(60, 64, 67, 0.15);\n",
              "      fill: #174EA6;\n",
              "    }\n",
              "\n",
              "    [theme=dark] .colab-df-convert {\n",
              "      background-color: #3B4455;\n",
              "      fill: #D2E3FC;\n",
              "    }\n",
              "\n",
              "    [theme=dark] .colab-df-convert:hover {\n",
              "      background-color: #434B5C;\n",
              "      box-shadow: 0px 1px 3px 1px rgba(0, 0, 0, 0.15);\n",
              "      filter: drop-shadow(0px 1px 2px rgba(0, 0, 0, 0.3));\n",
              "      fill: #FFFFFF;\n",
              "    }\n",
              "  </style>\n",
              "\n",
              "      <script>\n",
              "        const buttonEl =\n",
              "          document.querySelector('#df-41bd84f3-fe00-4e8a-8fcd-fd0c3b2d71ea button.colab-df-convert');\n",
              "        buttonEl.style.display =\n",
              "          google.colab.kernel.accessAllowed ? 'block' : 'none';\n",
              "\n",
              "        async function convertToInteractive(key) {\n",
              "          const element = document.querySelector('#df-41bd84f3-fe00-4e8a-8fcd-fd0c3b2d71ea');\n",
              "          const dataTable =\n",
              "            await google.colab.kernel.invokeFunction('convertToInteractive',\n",
              "                                                     [key], {});\n",
              "          if (!dataTable) return;\n",
              "\n",
              "          const docLinkHtml = 'Like what you see? Visit the ' +\n",
              "            '<a target=\"_blank\" href=https://colab.research.google.com/notebooks/data_table.ipynb>data table notebook</a>'\n",
              "            + ' to learn more about interactive tables.';\n",
              "          element.innerHTML = '';\n",
              "          dataTable['output_type'] = 'display_data';\n",
              "          await google.colab.output.renderOutput(dataTable, element);\n",
              "          const docLink = document.createElement('div');\n",
              "          docLink.innerHTML = docLinkHtml;\n",
              "          element.appendChild(docLink);\n",
              "        }\n",
              "      </script>\n",
              "    </div>\n",
              "  </div>\n",
              "  "
            ]
          },
          "metadata": {},
          "execution_count": 20
        }
      ]
    },
    {
      "cell_type": "code",
      "source": [
        "import nltk\n",
        "nltk.download(\"stopwords\")\n",
        "from nltk.corpus import stopwords\n",
        "sw = stopwords.words(\"english\")\n",
        "df[\"post_text\"] = df[\"post_text\"].apply(lambda x: \" \".join(x for x in x.split() if x not in sw))"
      ],
      "metadata": {
        "colab": {
          "base_uri": "https://localhost:8080/"
        },
        "id": "qmSTRq0pzaEg",
        "outputId": "23615de6-efc4-46d8-f648-6f07dd6d44aa"
      },
      "execution_count": null,
      "outputs": [
        {
          "output_type": "stream",
          "name": "stderr",
          "text": [
            "[nltk_data] Downloading package stopwords to /root/nltk_data...\n",
            "[nltk_data]   Unzipping corpora/stopwords.zip.\n"
          ]
        }
      ]
    },
    {
      "cell_type": "code",
      "source": [
        "df"
      ],
      "metadata": {
        "colab": {
          "base_uri": "https://localhost:8080/",
          "height": 423
        },
        "id": "9rWajJdu02ht",
        "outputId": "123a5d01-a410-4eaf-fffd-c389420818e3"
      },
      "execution_count": null,
      "outputs": [
        {
          "output_type": "execute_result",
          "data": {
            "text/plain": [
              "                                               post_text  followers  friends  \\\n",
              "0      years since diagnosed anxiety depression today...         84      211   \n",
              "1      sunday need break im planning spend little tim...         84      211   \n",
              "2                     awake tired need sleep brain ideas         84      211   \n",
              "3      rt sewhq retro bears make perfect gifts great ...         84      211   \n",
              "4      hard say whether packing lists making life eas...         84      211   \n",
              "...                                                  ...        ...      ...   \n",
              "19995                    day without sunshine like night        442      230   \n",
              "19996  borens laws charge ponder trouble delegate dou...        442      230   \n",
              "19997  flow chart thoroughly oversold piece program d...        442      230   \n",
              "19998                 ships safe harbor never meant stay        442      230   \n",
              "19999                      black holes god dividing zero        442      230   \n",
              "\n",
              "       favourites  statuses  retweets  label  month  year  \n",
              "0             251       837         0      1      8  2015  \n",
              "1             251       837         1      1      8  2015  \n",
              "2             251       837         0      1      8  2015  \n",
              "3             251       837         2      1      8  2015  \n",
              "4             251       837         1      1      8  2015  \n",
              "...           ...       ...       ...    ...    ...   ...  \n",
              "19995           7   1063601         0      0      1  2017  \n",
              "19996           7   1063601         0      0      1  2017  \n",
              "19997           7   1063601         0      0      1  2017  \n",
              "19998           7   1063601         0      0      1  2017  \n",
              "19999           7   1063601         0      0      1  2017  \n",
              "\n",
              "[20000 rows x 9 columns]"
            ],
            "text/html": [
              "\n",
              "  <div id=\"df-5847639f-c369-4599-9cf2-c1578d00f631\">\n",
              "    <div class=\"colab-df-container\">\n",
              "      <div>\n",
              "<style scoped>\n",
              "    .dataframe tbody tr th:only-of-type {\n",
              "        vertical-align: middle;\n",
              "    }\n",
              "\n",
              "    .dataframe tbody tr th {\n",
              "        vertical-align: top;\n",
              "    }\n",
              "\n",
              "    .dataframe thead th {\n",
              "        text-align: right;\n",
              "    }\n",
              "</style>\n",
              "<table border=\"1\" class=\"dataframe\">\n",
              "  <thead>\n",
              "    <tr style=\"text-align: right;\">\n",
              "      <th></th>\n",
              "      <th>post_text</th>\n",
              "      <th>followers</th>\n",
              "      <th>friends</th>\n",
              "      <th>favourites</th>\n",
              "      <th>statuses</th>\n",
              "      <th>retweets</th>\n",
              "      <th>label</th>\n",
              "      <th>month</th>\n",
              "      <th>year</th>\n",
              "    </tr>\n",
              "  </thead>\n",
              "  <tbody>\n",
              "    <tr>\n",
              "      <th>0</th>\n",
              "      <td>years since diagnosed anxiety depression today...</td>\n",
              "      <td>84</td>\n",
              "      <td>211</td>\n",
              "      <td>251</td>\n",
              "      <td>837</td>\n",
              "      <td>0</td>\n",
              "      <td>1</td>\n",
              "      <td>8</td>\n",
              "      <td>2015</td>\n",
              "    </tr>\n",
              "    <tr>\n",
              "      <th>1</th>\n",
              "      <td>sunday need break im planning spend little tim...</td>\n",
              "      <td>84</td>\n",
              "      <td>211</td>\n",
              "      <td>251</td>\n",
              "      <td>837</td>\n",
              "      <td>1</td>\n",
              "      <td>1</td>\n",
              "      <td>8</td>\n",
              "      <td>2015</td>\n",
              "    </tr>\n",
              "    <tr>\n",
              "      <th>2</th>\n",
              "      <td>awake tired need sleep brain ideas</td>\n",
              "      <td>84</td>\n",
              "      <td>211</td>\n",
              "      <td>251</td>\n",
              "      <td>837</td>\n",
              "      <td>0</td>\n",
              "      <td>1</td>\n",
              "      <td>8</td>\n",
              "      <td>2015</td>\n",
              "    </tr>\n",
              "    <tr>\n",
              "      <th>3</th>\n",
              "      <td>rt sewhq retro bears make perfect gifts great ...</td>\n",
              "      <td>84</td>\n",
              "      <td>211</td>\n",
              "      <td>251</td>\n",
              "      <td>837</td>\n",
              "      <td>2</td>\n",
              "      <td>1</td>\n",
              "      <td>8</td>\n",
              "      <td>2015</td>\n",
              "    </tr>\n",
              "    <tr>\n",
              "      <th>4</th>\n",
              "      <td>hard say whether packing lists making life eas...</td>\n",
              "      <td>84</td>\n",
              "      <td>211</td>\n",
              "      <td>251</td>\n",
              "      <td>837</td>\n",
              "      <td>1</td>\n",
              "      <td>1</td>\n",
              "      <td>8</td>\n",
              "      <td>2015</td>\n",
              "    </tr>\n",
              "    <tr>\n",
              "      <th>...</th>\n",
              "      <td>...</td>\n",
              "      <td>...</td>\n",
              "      <td>...</td>\n",
              "      <td>...</td>\n",
              "      <td>...</td>\n",
              "      <td>...</td>\n",
              "      <td>...</td>\n",
              "      <td>...</td>\n",
              "      <td>...</td>\n",
              "    </tr>\n",
              "    <tr>\n",
              "      <th>19995</th>\n",
              "      <td>day without sunshine like night</td>\n",
              "      <td>442</td>\n",
              "      <td>230</td>\n",
              "      <td>7</td>\n",
              "      <td>1063601</td>\n",
              "      <td>0</td>\n",
              "      <td>0</td>\n",
              "      <td>1</td>\n",
              "      <td>2017</td>\n",
              "    </tr>\n",
              "    <tr>\n",
              "      <th>19996</th>\n",
              "      <td>borens laws charge ponder trouble delegate dou...</td>\n",
              "      <td>442</td>\n",
              "      <td>230</td>\n",
              "      <td>7</td>\n",
              "      <td>1063601</td>\n",
              "      <td>0</td>\n",
              "      <td>0</td>\n",
              "      <td>1</td>\n",
              "      <td>2017</td>\n",
              "    </tr>\n",
              "    <tr>\n",
              "      <th>19997</th>\n",
              "      <td>flow chart thoroughly oversold piece program d...</td>\n",
              "      <td>442</td>\n",
              "      <td>230</td>\n",
              "      <td>7</td>\n",
              "      <td>1063601</td>\n",
              "      <td>0</td>\n",
              "      <td>0</td>\n",
              "      <td>1</td>\n",
              "      <td>2017</td>\n",
              "    </tr>\n",
              "    <tr>\n",
              "      <th>19998</th>\n",
              "      <td>ships safe harbor never meant stay</td>\n",
              "      <td>442</td>\n",
              "      <td>230</td>\n",
              "      <td>7</td>\n",
              "      <td>1063601</td>\n",
              "      <td>0</td>\n",
              "      <td>0</td>\n",
              "      <td>1</td>\n",
              "      <td>2017</td>\n",
              "    </tr>\n",
              "    <tr>\n",
              "      <th>19999</th>\n",
              "      <td>black holes god dividing zero</td>\n",
              "      <td>442</td>\n",
              "      <td>230</td>\n",
              "      <td>7</td>\n",
              "      <td>1063601</td>\n",
              "      <td>0</td>\n",
              "      <td>0</td>\n",
              "      <td>1</td>\n",
              "      <td>2017</td>\n",
              "    </tr>\n",
              "  </tbody>\n",
              "</table>\n",
              "<p>20000 rows × 9 columns</p>\n",
              "</div>\n",
              "      <button class=\"colab-df-convert\" onclick=\"convertToInteractive('df-5847639f-c369-4599-9cf2-c1578d00f631')\"\n",
              "              title=\"Convert this dataframe to an interactive table.\"\n",
              "              style=\"display:none;\">\n",
              "        \n",
              "  <svg xmlns=\"http://www.w3.org/2000/svg\" height=\"24px\"viewBox=\"0 0 24 24\"\n",
              "       width=\"24px\">\n",
              "    <path d=\"M0 0h24v24H0V0z\" fill=\"none\"/>\n",
              "    <path d=\"M18.56 5.44l.94 2.06.94-2.06 2.06-.94-2.06-.94-.94-2.06-.94 2.06-2.06.94zm-11 1L8.5 8.5l.94-2.06 2.06-.94-2.06-.94L8.5 2.5l-.94 2.06-2.06.94zm10 10l.94 2.06.94-2.06 2.06-.94-2.06-.94-.94-2.06-.94 2.06-2.06.94z\"/><path d=\"M17.41 7.96l-1.37-1.37c-.4-.4-.92-.59-1.43-.59-.52 0-1.04.2-1.43.59L10.3 9.45l-7.72 7.72c-.78.78-.78 2.05 0 2.83L4 21.41c.39.39.9.59 1.41.59.51 0 1.02-.2 1.41-.59l7.78-7.78 2.81-2.81c.8-.78.8-2.07 0-2.86zM5.41 20L4 18.59l7.72-7.72 1.47 1.35L5.41 20z\"/>\n",
              "  </svg>\n",
              "      </button>\n",
              "      \n",
              "  <style>\n",
              "    .colab-df-container {\n",
              "      display:flex;\n",
              "      flex-wrap:wrap;\n",
              "      gap: 12px;\n",
              "    }\n",
              "\n",
              "    .colab-df-convert {\n",
              "      background-color: #E8F0FE;\n",
              "      border: none;\n",
              "      border-radius: 50%;\n",
              "      cursor: pointer;\n",
              "      display: none;\n",
              "      fill: #1967D2;\n",
              "      height: 32px;\n",
              "      padding: 0 0 0 0;\n",
              "      width: 32px;\n",
              "    }\n",
              "\n",
              "    .colab-df-convert:hover {\n",
              "      background-color: #E2EBFA;\n",
              "      box-shadow: 0px 1px 2px rgba(60, 64, 67, 0.3), 0px 1px 3px 1px rgba(60, 64, 67, 0.15);\n",
              "      fill: #174EA6;\n",
              "    }\n",
              "\n",
              "    [theme=dark] .colab-df-convert {\n",
              "      background-color: #3B4455;\n",
              "      fill: #D2E3FC;\n",
              "    }\n",
              "\n",
              "    [theme=dark] .colab-df-convert:hover {\n",
              "      background-color: #434B5C;\n",
              "      box-shadow: 0px 1px 3px 1px rgba(0, 0, 0, 0.15);\n",
              "      filter: drop-shadow(0px 1px 2px rgba(0, 0, 0, 0.3));\n",
              "      fill: #FFFFFF;\n",
              "    }\n",
              "  </style>\n",
              "\n",
              "      <script>\n",
              "        const buttonEl =\n",
              "          document.querySelector('#df-5847639f-c369-4599-9cf2-c1578d00f631 button.colab-df-convert');\n",
              "        buttonEl.style.display =\n",
              "          google.colab.kernel.accessAllowed ? 'block' : 'none';\n",
              "\n",
              "        async function convertToInteractive(key) {\n",
              "          const element = document.querySelector('#df-5847639f-c369-4599-9cf2-c1578d00f631');\n",
              "          const dataTable =\n",
              "            await google.colab.kernel.invokeFunction('convertToInteractive',\n",
              "                                                     [key], {});\n",
              "          if (!dataTable) return;\n",
              "\n",
              "          const docLinkHtml = 'Like what you see? Visit the ' +\n",
              "            '<a target=\"_blank\" href=https://colab.research.google.com/notebooks/data_table.ipynb>data table notebook</a>'\n",
              "            + ' to learn more about interactive tables.';\n",
              "          element.innerHTML = '';\n",
              "          dataTable['output_type'] = 'display_data';\n",
              "          await google.colab.output.renderOutput(dataTable, element);\n",
              "          const docLink = document.createElement('div');\n",
              "          docLink.innerHTML = docLinkHtml;\n",
              "          element.appendChild(docLink);\n",
              "        }\n",
              "      </script>\n",
              "    </div>\n",
              "  </div>\n",
              "  "
            ]
          },
          "metadata": {},
          "execution_count": 22
        }
      ]
    },
    {
      "cell_type": "markdown",
      "source": [
        "Lemmatization"
      ],
      "metadata": {
        "id": "dqVoZHDF2jKf"
      }
    },
    {
      "cell_type": "code",
      "source": [
        "import textblob\n",
        "from textblob import TextBlob\n",
        "from textblob import Word\n",
        "nltk.download(\"wordnet\")\n",
        "nltk.download(\"omw-1.4\")\n",
        "df[\"post_text\"] = df[\"post_text\"].apply(lambda x: \" \".join([Word(x).lemmatize()]))\n"
      ],
      "metadata": {
        "colab": {
          "base_uri": "https://localhost:8080/"
        },
        "id": "1ABxfZep1mdA",
        "outputId": "d4cfbd2e-05b8-42cb-982e-2de366b0efc1"
      },
      "execution_count": null,
      "outputs": [
        {
          "output_type": "stream",
          "name": "stderr",
          "text": [
            "[nltk_data] Downloading package wordnet to /root/nltk_data...\n",
            "[nltk_data] Downloading package omw-1.4 to /root/nltk_data...\n"
          ]
        }
      ]
    },
    {
      "cell_type": "markdown",
      "source": [
        "Tokenization"
      ],
      "metadata": {
        "id": "lEvdXBQk2g6G"
      }
    },
    {
      "cell_type": "code",
      "source": [
        "from nltk.tokenize import word_tokenize\n",
        "nltk.download('punkt')\n",
        "df[\"tokens\"] = df[\"post_text\"].apply(lambda x: TextBlob(x).words)"
      ],
      "metadata": {
        "colab": {
          "base_uri": "https://localhost:8080/"
        },
        "id": "_q-K7LxU1xVp",
        "outputId": "8997d464-9430-44c4-cc08-a0f5b8396b4e"
      },
      "execution_count": null,
      "outputs": [
        {
          "output_type": "stream",
          "name": "stderr",
          "text": [
            "[nltk_data] Downloading package punkt to /root/nltk_data...\n",
            "[nltk_data]   Unzipping tokenizers/punkt.zip.\n"
          ]
        }
      ]
    },
    {
      "cell_type": "markdown",
      "source": [
        "Frequency Analysis"
      ],
      "metadata": {
        "id": "wpYirnJe28HV"
      }
    },
    {
      "cell_type": "code",
      "source": [
        "df[\"frequency\"] = df[\"post_text\"].apply(lambda x: len(str(x).split(\" \")))   #no of words in each posts\n",
        "df[\"frequency\"]"
      ],
      "metadata": {
        "colab": {
          "base_uri": "https://localhost:8080/"
        },
        "id": "HoCjSWFP2mdB",
        "outputId": "39dd51d9-bf02-412c-e1e3-8ef6bdf43089"
      },
      "execution_count": null,
      "outputs": [
        {
          "output_type": "execute_result",
          "data": {
            "text/plain": [
              "0        14\n",
              "1         9\n",
              "2         6\n",
              "3        16\n",
              "4        14\n",
              "         ..\n",
              "19995     5\n",
              "19996     8\n",
              "19997    13\n",
              "19998     6\n",
              "19999     5\n",
              "Name: frequency, Length: 20000, dtype: int64"
            ]
          },
          "metadata": {},
          "execution_count": 25
        }
      ]
    },
    {
      "cell_type": "code",
      "source": [
        "#df.groupby(\"frequency\").max()\n",
        "#df[df[\"post_text\"].str.contains(\"sos unique\")]\n",
        "#longest_comment=df.iloc[3038,0]\n",
        "#print(longest_comment)"
      ],
      "metadata": {
        "id": "ewM-uXdL2rH5"
      },
      "execution_count": null,
      "outputs": []
    },
    {
      "cell_type": "code",
      "source": [
        "longest_comment_index = df[\"post_text\"].str.len().idxmax()\n",
        "longest_comment = df.loc[longest_comment_index, \"post_text\"]\n",
        "print(longest_comment)"
      ],
      "metadata": {
        "colab": {
          "base_uri": "https://localhost:8080/"
        },
        "id": "Ye922M-HH_0C",
        "outputId": "7f4ecc56-33f0-4fdb-996e-54cf00371fe8"
      },
      "execution_count": null,
      "outputs": [
        {
          "output_type": "stream",
          "name": "stdout",
          "text": [
            "rt sos unique new york unique new york unique new york unique new york unique new york unique new york unique new york unique new york u\n"
          ]
        }
      ]
    },
    {
      "cell_type": "code",
      "source": [
        "df.head()"
      ],
      "metadata": {
        "colab": {
          "base_uri": "https://localhost:8080/",
          "height": 206
        },
        "id": "U2RfJtPN3X9Z",
        "outputId": "0de27e83-0ee0-437d-c2f1-f07bbd4752df"
      },
      "execution_count": null,
      "outputs": [
        {
          "output_type": "execute_result",
          "data": {
            "text/plain": [
              "                                           post_text  followers  friends  \\\n",
              "0  years since diagnosed anxiety depression today...         84      211   \n",
              "1  sunday need break im planning spend little tim...         84      211   \n",
              "2                 awake tired need sleep brain ideas         84      211   \n",
              "3  rt sewhq retro bears make perfect gifts great ...         84      211   \n",
              "4  hard say whether packing lists making life eas...         84      211   \n",
              "\n",
              "   favourites  statuses  retweets  label  month  year  \\\n",
              "0         251       837         0      1      8  2015   \n",
              "1         251       837         1      1      8  2015   \n",
              "2         251       837         0      1      8  2015   \n",
              "3         251       837         2      1      8  2015   \n",
              "4         251       837         1      1      8  2015   \n",
              "\n",
              "                                              tokens  frequency  \n",
              "0  [years, since, diagnosed, anxiety, depression,...         14  \n",
              "1  [sunday, need, break, im, planning, spend, lit...          9  \n",
              "2          [awake, tired, need, sleep, brain, ideas]          6  \n",
              "3  [rt, sewhq, retro, bears, make, perfect, gifts...         16  \n",
              "4  [hard, say, whether, packing, lists, making, l...         14  "
            ],
            "text/html": [
              "\n",
              "  <div id=\"df-04b88578-ecfa-4a4c-8a5d-43079ef576e2\">\n",
              "    <div class=\"colab-df-container\">\n",
              "      <div>\n",
              "<style scoped>\n",
              "    .dataframe tbody tr th:only-of-type {\n",
              "        vertical-align: middle;\n",
              "    }\n",
              "\n",
              "    .dataframe tbody tr th {\n",
              "        vertical-align: top;\n",
              "    }\n",
              "\n",
              "    .dataframe thead th {\n",
              "        text-align: right;\n",
              "    }\n",
              "</style>\n",
              "<table border=\"1\" class=\"dataframe\">\n",
              "  <thead>\n",
              "    <tr style=\"text-align: right;\">\n",
              "      <th></th>\n",
              "      <th>post_text</th>\n",
              "      <th>followers</th>\n",
              "      <th>friends</th>\n",
              "      <th>favourites</th>\n",
              "      <th>statuses</th>\n",
              "      <th>retweets</th>\n",
              "      <th>label</th>\n",
              "      <th>month</th>\n",
              "      <th>year</th>\n",
              "      <th>tokens</th>\n",
              "      <th>frequency</th>\n",
              "    </tr>\n",
              "  </thead>\n",
              "  <tbody>\n",
              "    <tr>\n",
              "      <th>0</th>\n",
              "      <td>years since diagnosed anxiety depression today...</td>\n",
              "      <td>84</td>\n",
              "      <td>211</td>\n",
              "      <td>251</td>\n",
              "      <td>837</td>\n",
              "      <td>0</td>\n",
              "      <td>1</td>\n",
              "      <td>8</td>\n",
              "      <td>2015</td>\n",
              "      <td>[years, since, diagnosed, anxiety, depression,...</td>\n",
              "      <td>14</td>\n",
              "    </tr>\n",
              "    <tr>\n",
              "      <th>1</th>\n",
              "      <td>sunday need break im planning spend little tim...</td>\n",
              "      <td>84</td>\n",
              "      <td>211</td>\n",
              "      <td>251</td>\n",
              "      <td>837</td>\n",
              "      <td>1</td>\n",
              "      <td>1</td>\n",
              "      <td>8</td>\n",
              "      <td>2015</td>\n",
              "      <td>[sunday, need, break, im, planning, spend, lit...</td>\n",
              "      <td>9</td>\n",
              "    </tr>\n",
              "    <tr>\n",
              "      <th>2</th>\n",
              "      <td>awake tired need sleep brain ideas</td>\n",
              "      <td>84</td>\n",
              "      <td>211</td>\n",
              "      <td>251</td>\n",
              "      <td>837</td>\n",
              "      <td>0</td>\n",
              "      <td>1</td>\n",
              "      <td>8</td>\n",
              "      <td>2015</td>\n",
              "      <td>[awake, tired, need, sleep, brain, ideas]</td>\n",
              "      <td>6</td>\n",
              "    </tr>\n",
              "    <tr>\n",
              "      <th>3</th>\n",
              "      <td>rt sewhq retro bears make perfect gifts great ...</td>\n",
              "      <td>84</td>\n",
              "      <td>211</td>\n",
              "      <td>251</td>\n",
              "      <td>837</td>\n",
              "      <td>2</td>\n",
              "      <td>1</td>\n",
              "      <td>8</td>\n",
              "      <td>2015</td>\n",
              "      <td>[rt, sewhq, retro, bears, make, perfect, gifts...</td>\n",
              "      <td>16</td>\n",
              "    </tr>\n",
              "    <tr>\n",
              "      <th>4</th>\n",
              "      <td>hard say whether packing lists making life eas...</td>\n",
              "      <td>84</td>\n",
              "      <td>211</td>\n",
              "      <td>251</td>\n",
              "      <td>837</td>\n",
              "      <td>1</td>\n",
              "      <td>1</td>\n",
              "      <td>8</td>\n",
              "      <td>2015</td>\n",
              "      <td>[hard, say, whether, packing, lists, making, l...</td>\n",
              "      <td>14</td>\n",
              "    </tr>\n",
              "  </tbody>\n",
              "</table>\n",
              "</div>\n",
              "      <button class=\"colab-df-convert\" onclick=\"convertToInteractive('df-04b88578-ecfa-4a4c-8a5d-43079ef576e2')\"\n",
              "              title=\"Convert this dataframe to an interactive table.\"\n",
              "              style=\"display:none;\">\n",
              "        \n",
              "  <svg xmlns=\"http://www.w3.org/2000/svg\" height=\"24px\"viewBox=\"0 0 24 24\"\n",
              "       width=\"24px\">\n",
              "    <path d=\"M0 0h24v24H0V0z\" fill=\"none\"/>\n",
              "    <path d=\"M18.56 5.44l.94 2.06.94-2.06 2.06-.94-2.06-.94-.94-2.06-.94 2.06-2.06.94zm-11 1L8.5 8.5l.94-2.06 2.06-.94-2.06-.94L8.5 2.5l-.94 2.06-2.06.94zm10 10l.94 2.06.94-2.06 2.06-.94-2.06-.94-.94-2.06-.94 2.06-2.06.94z\"/><path d=\"M17.41 7.96l-1.37-1.37c-.4-.4-.92-.59-1.43-.59-.52 0-1.04.2-1.43.59L10.3 9.45l-7.72 7.72c-.78.78-.78 2.05 0 2.83L4 21.41c.39.39.9.59 1.41.59.51 0 1.02-.2 1.41-.59l7.78-7.78 2.81-2.81c.8-.78.8-2.07 0-2.86zM5.41 20L4 18.59l7.72-7.72 1.47 1.35L5.41 20z\"/>\n",
              "  </svg>\n",
              "      </button>\n",
              "      \n",
              "  <style>\n",
              "    .colab-df-container {\n",
              "      display:flex;\n",
              "      flex-wrap:wrap;\n",
              "      gap: 12px;\n",
              "    }\n",
              "\n",
              "    .colab-df-convert {\n",
              "      background-color: #E8F0FE;\n",
              "      border: none;\n",
              "      border-radius: 50%;\n",
              "      cursor: pointer;\n",
              "      display: none;\n",
              "      fill: #1967D2;\n",
              "      height: 32px;\n",
              "      padding: 0 0 0 0;\n",
              "      width: 32px;\n",
              "    }\n",
              "\n",
              "    .colab-df-convert:hover {\n",
              "      background-color: #E2EBFA;\n",
              "      box-shadow: 0px 1px 2px rgba(60, 64, 67, 0.3), 0px 1px 3px 1px rgba(60, 64, 67, 0.15);\n",
              "      fill: #174EA6;\n",
              "    }\n",
              "\n",
              "    [theme=dark] .colab-df-convert {\n",
              "      background-color: #3B4455;\n",
              "      fill: #D2E3FC;\n",
              "    }\n",
              "\n",
              "    [theme=dark] .colab-df-convert:hover {\n",
              "      background-color: #434B5C;\n",
              "      box-shadow: 0px 1px 3px 1px rgba(0, 0, 0, 0.15);\n",
              "      filter: drop-shadow(0px 1px 2px rgba(0, 0, 0, 0.3));\n",
              "      fill: #FFFFFF;\n",
              "    }\n",
              "  </style>\n",
              "\n",
              "      <script>\n",
              "        const buttonEl =\n",
              "          document.querySelector('#df-04b88578-ecfa-4a4c-8a5d-43079ef576e2 button.colab-df-convert');\n",
              "        buttonEl.style.display =\n",
              "          google.colab.kernel.accessAllowed ? 'block' : 'none';\n",
              "\n",
              "        async function convertToInteractive(key) {\n",
              "          const element = document.querySelector('#df-04b88578-ecfa-4a4c-8a5d-43079ef576e2');\n",
              "          const dataTable =\n",
              "            await google.colab.kernel.invokeFunction('convertToInteractive',\n",
              "                                                     [key], {});\n",
              "          if (!dataTable) return;\n",
              "\n",
              "          const docLinkHtml = 'Like what you see? Visit the ' +\n",
              "            '<a target=\"_blank\" href=https://colab.research.google.com/notebooks/data_table.ipynb>data table notebook</a>'\n",
              "            + ' to learn more about interactive tables.';\n",
              "          element.innerHTML = '';\n",
              "          dataTable['output_type'] = 'display_data';\n",
              "          await google.colab.output.renderOutput(dataTable, element);\n",
              "          const docLink = document.createElement('div');\n",
              "          docLink.innerHTML = docLinkHtml;\n",
              "          element.appendChild(docLink);\n",
              "        }\n",
              "      </script>\n",
              "    </div>\n",
              "  </div>\n",
              "  "
            ]
          },
          "metadata": {},
          "execution_count": 28
        }
      ]
    },
    {
      "cell_type": "code",
      "source": [
        "#nltk.download('averaged_perceptron_tagger')\n",
        "#TextBlob(longest_comment).tags"
      ],
      "metadata": {
        "id": "W1T36-9h2_R3"
      },
      "execution_count": null,
      "outputs": []
    },
    {
      "cell_type": "markdown",
      "source": [
        "Data Visualisation"
      ],
      "metadata": {
        "id": "52JReYqX3s5q"
      }
    },
    {
      "cell_type": "code",
      "source": [
        "!pip install wordcloud\n",
        "\n",
        "from wordcloud import WordCloud\n",
        "from wordcloud import STOPWORDS"
      ],
      "metadata": {
        "colab": {
          "base_uri": "https://localhost:8080/"
        },
        "id": "AQgykwOB3cam",
        "outputId": "e0f8c0fe-f72d-4e86-de3a-752bc1941dba"
      },
      "execution_count": null,
      "outputs": [
        {
          "output_type": "stream",
          "name": "stdout",
          "text": [
            "Looking in indexes: https://pypi.org/simple, https://us-python.pkg.dev/colab-wheels/public/simple/\n",
            "Requirement already satisfied: wordcloud in /usr/local/lib/python3.10/dist-packages (1.8.2.2)\n",
            "Requirement already satisfied: numpy>=1.6.1 in /usr/local/lib/python3.10/dist-packages (from wordcloud) (1.22.4)\n",
            "Requirement already satisfied: pillow in /usr/local/lib/python3.10/dist-packages (from wordcloud) (8.4.0)\n",
            "Requirement already satisfied: matplotlib in /usr/local/lib/python3.10/dist-packages (from wordcloud) (3.7.1)\n",
            "Requirement already satisfied: contourpy>=1.0.1 in /usr/local/lib/python3.10/dist-packages (from matplotlib->wordcloud) (1.0.7)\n",
            "Requirement already satisfied: cycler>=0.10 in /usr/local/lib/python3.10/dist-packages (from matplotlib->wordcloud) (0.11.0)\n",
            "Requirement already satisfied: fonttools>=4.22.0 in /usr/local/lib/python3.10/dist-packages (from matplotlib->wordcloud) (4.39.3)\n",
            "Requirement already satisfied: kiwisolver>=1.0.1 in /usr/local/lib/python3.10/dist-packages (from matplotlib->wordcloud) (1.4.4)\n",
            "Requirement already satisfied: packaging>=20.0 in /usr/local/lib/python3.10/dist-packages (from matplotlib->wordcloud) (23.1)\n",
            "Requirement already satisfied: pyparsing>=2.3.1 in /usr/local/lib/python3.10/dist-packages (from matplotlib->wordcloud) (3.0.9)\n",
            "Requirement already satisfied: python-dateutil>=2.7 in /usr/local/lib/python3.10/dist-packages (from matplotlib->wordcloud) (2.8.2)\n",
            "Requirement already satisfied: six>=1.5 in /usr/local/lib/python3.10/dist-packages (from python-dateutil>=2.7->matplotlib->wordcloud) (1.16.0)\n"
          ]
        }
      ]
    },
    {
      "cell_type": "code",
      "source": [
        "text = \" \".join(i for i in df.post_text)"
      ],
      "metadata": {
        "id": "R1r5BNbv3xhI"
      },
      "execution_count": null,
      "outputs": []
    },
    {
      "cell_type": "code",
      "source": [
        "wordcloud = WordCloud(\n",
        "    background_color=\"#6B5B95\",\n",
        "    colormap=\"Set2\",\n",
        "    collocations=False).generate(text)\n",
        "\n",
        "plt.figure(figsize=[11,11])\n",
        "plt.imshow(wordcloud, interpolation=\"bilinear\")\n",
        "plt.axis(\"off\")\n",
        "plt.title(\"The Tweet's About Depression\")\n",
        "plt.show()"
      ],
      "metadata": {
        "colab": {
          "base_uri": "https://localhost:8080/",
          "height": 485
        },
        "id": "gh337aSf4SeM",
        "outputId": "29a2356d-8826-4e01-bd4c-742cbfe6f542"
      },
      "execution_count": null,
      "outputs": [
        {
          "output_type": "display_data",
          "data": {
            "text/plain": [
              "<Figure size 1100x1100 with 1 Axes>"
            ],
            "image/png": "[encoded data removed]"
          },
          "metadata": {}
        }
      ]
    },
    {
      "cell_type": "code",
      "source": [
        "print(\"\\n\",\n",
        "      \"\\n rt :\",text.count(\"rt\"),\n",
        "      \"\\n im :\",text.count(\"im\"),\n",
        "      \"\\n one :\",text.count(\"one\"),\n",
        "      \"\\n depression :\",text.count(\"depression\"),\n",
        "      \"\\n dont :\",text.count(\"dont\"),\n",
        "      \"\\n time :\",text.count(\"time\"),\n",
        "      \"\\n love :\",text.count(\"love\"),\n",
        "      \"\\n know :\",text.count(\"know\"),\n",
        "      \"\\n thank :\",text.count(\"thank\"),\n",
        "      \"\\n people :\",text.count(\"people\"),\n",
        "     )"
      ],
      "metadata": {
        "colab": {
          "base_uri": "https://localhost:8080/"
        },
        "id": "bP8BydTo4Uae",
        "outputId": "6f3a6562-3b01-4f26-88a9-d827edf38e6d"
      },
      "execution_count": null,
      "outputs": [
        {
          "output_type": "stream",
          "name": "stdout",
          "text": [
            "\n",
            " \n",
            " rt : 6630 \n",
            " im : 3328 \n",
            " one : 2063 \n",
            " depression : 950 \n",
            " dont : 887 \n",
            " time : 785 \n",
            " love : 754 \n",
            " know : 729 \n",
            " thank : 702 \n",
            " people : 593\n"
          ]
        }
      ]
    },
    {
      "cell_type": "code",
      "source": [
        "\n",
        "data = {\n",
        "    \"title\": [\"rt\", \"im\" ,\"one\", \"depression\", \"dont\", \"time\",\n",
        "              \"love\",\"know\",\"thank\", \"people\"],\n",
        "    \"count\": [6630, 3328 ,2063, 950, 887, 785, 754, 729, 702, 593],\n",
        "}"
      ],
      "metadata": {
        "id": "HXEjcH4X5As9"
      },
      "execution_count": null,
      "outputs": []
    },
    {
      "cell_type": "code",
      "source": [
        "data = pd.DataFrame(data)\n",
        "data.head(10)"
      ],
      "metadata": {
        "colab": {
          "base_uri": "https://localhost:8080/",
          "height": 363
        },
        "id": "ir1TheyC44h8",
        "outputId": "78fcbfb4-5edc-4e33-a6ff-292d2f4eb6c3"
      },
      "execution_count": null,
      "outputs": [
        {
          "output_type": "execute_result",
          "data": {
            "text/plain": [
              "        title  count\n",
              "0          rt   6630\n",
              "1          im   3328\n",
              "2         one   2063\n",
              "3  depression    950\n",
              "4        dont    887\n",
              "5        time    785\n",
              "6        love    754\n",
              "7        know    729\n",
              "8       thank    702\n",
              "9      people    593"
            ],
            "text/html": [
              "\n",
              "  <div id=\"df-73d3f997-76d3-48da-844b-00e884d103da\">\n",
              "    <div class=\"colab-df-container\">\n",
              "      <div>\n",
              "<style scoped>\n",
              "    .dataframe tbody tr th:only-of-type {\n",
              "        vertical-align: middle;\n",
              "    }\n",
              "\n",
              "    .dataframe tbody tr th {\n",
              "        vertical-align: top;\n",
              "    }\n",
              "\n",
              "    .dataframe thead th {\n",
              "        text-align: right;\n",
              "    }\n",
              "</style>\n",
              "<table border=\"1\" class=\"dataframe\">\n",
              "  <thead>\n",
              "    <tr style=\"text-align: right;\">\n",
              "      <th></th>\n",
              "      <th>title</th>\n",
              "      <th>count</th>\n",
              "    </tr>\n",
              "  </thead>\n",
              "  <tbody>\n",
              "    <tr>\n",
              "      <th>0</th>\n",
              "      <td>rt</td>\n",
              "      <td>6630</td>\n",
              "    </tr>\n",
              "    <tr>\n",
              "      <th>1</th>\n",
              "      <td>im</td>\n",
              "      <td>3328</td>\n",
              "    </tr>\n",
              "    <tr>\n",
              "      <th>2</th>\n",
              "      <td>one</td>\n",
              "      <td>2063</td>\n",
              "    </tr>\n",
              "    <tr>\n",
              "      <th>3</th>\n",
              "      <td>depression</td>\n",
              "      <td>950</td>\n",
              "    </tr>\n",
              "    <tr>\n",
              "      <th>4</th>\n",
              "      <td>dont</td>\n",
              "      <td>887</td>\n",
              "    </tr>\n",
              "    <tr>\n",
              "      <th>5</th>\n",
              "      <td>time</td>\n",
              "      <td>785</td>\n",
              "    </tr>\n",
              "    <tr>\n",
              "      <th>6</th>\n",
              "      <td>love</td>\n",
              "      <td>754</td>\n",
              "    </tr>\n",
              "    <tr>\n",
              "      <th>7</th>\n",
              "      <td>know</td>\n",
              "      <td>729</td>\n",
              "    </tr>\n",
              "    <tr>\n",
              "      <th>8</th>\n",
              "      <td>thank</td>\n",
              "      <td>702</td>\n",
              "    </tr>\n",
              "    <tr>\n",
              "      <th>9</th>\n",
              "      <td>people</td>\n",
              "      <td>593</td>\n",
              "    </tr>\n",
              "  </tbody>\n",
              "</table>\n",
              "</div>\n",
              "      <button class=\"colab-df-convert\" onclick=\"convertToInteractive('df-73d3f997-76d3-48da-844b-00e884d103da')\"\n",
              "              title=\"Convert this dataframe to an interactive table.\"\n",
              "              style=\"display:none;\">\n",
              "        \n",
              "  <svg xmlns=\"http://www.w3.org/2000/svg\" height=\"24px\"viewBox=\"0 0 24 24\"\n",
              "       width=\"24px\">\n",
              "    <path d=\"M0 0h24v24H0V0z\" fill=\"none\"/>\n",
              "    <path d=\"M18.56 5.44l.94 2.06.94-2.06 2.06-.94-2.06-.94-.94-2.06-.94 2.06-2.06.94zm-11 1L8.5 8.5l.94-2.06 2.06-.94-2.06-.94L8.5 2.5l-.94 2.06-2.06.94zm10 10l.94 2.06.94-2.06 2.06-.94-2.06-.94-.94-2.06-.94 2.06-2.06.94z\"/><path d=\"M17.41 7.96l-1.37-1.37c-.4-.4-.92-.59-1.43-.59-.52 0-1.04.2-1.43.59L10.3 9.45l-7.72 7.72c-.78.78-.78 2.05 0 2.83L4 21.41c.39.39.9.59 1.41.59.51 0 1.02-.2 1.41-.59l7.78-7.78 2.81-2.81c.8-.78.8-2.07 0-2.86zM5.41 20L4 18.59l7.72-7.72 1.47 1.35L5.41 20z\"/>\n",
              "  </svg>\n",
              "      </button>\n",
              "      \n",
              "  <style>\n",
              "    .colab-df-container {\n",
              "      display:flex;\n",
              "      flex-wrap:wrap;\n",
              "      gap: 12px;\n",
              "    }\n",
              "\n",
              "    .colab-df-convert {\n",
              "      background-color: #E8F0FE;\n",
              "      border: none;\n",
              "      border-radius: 50%;\n",
              "      cursor: pointer;\n",
              "      display: none;\n",
              "      fill: #1967D2;\n",
              "      height: 32px;\n",
              "      padding: 0 0 0 0;\n",
              "      width: 32px;\n",
              "    }\n",
              "\n",
              "    .colab-df-convert:hover {\n",
              "      background-color: #E2EBFA;\n",
              "      box-shadow: 0px 1px 2px rgba(60, 64, 67, 0.3), 0px 1px 3px 1px rgba(60, 64, 67, 0.15);\n",
              "      fill: #174EA6;\n",
              "    }\n",
              "\n",
              "    [theme=dark] .colab-df-convert {\n",
              "      background-color: #3B4455;\n",
              "      fill: #D2E3FC;\n",
              "    }\n",
              "\n",
              "    [theme=dark] .colab-df-convert:hover {\n",
              "      background-color: #434B5C;\n",
              "      box-shadow: 0px 1px 3px 1px rgba(0, 0, 0, 0.15);\n",
              "      filter: drop-shadow(0px 1px 2px rgba(0, 0, 0, 0.3));\n",
              "      fill: #FFFFFF;\n",
              "    }\n",
              "  </style>\n",
              "\n",
              "      <script>\n",
              "        const buttonEl =\n",
              "          document.querySelector('#df-73d3f997-76d3-48da-844b-00e884d103da button.colab-df-convert');\n",
              "        buttonEl.style.display =\n",
              "          google.colab.kernel.accessAllowed ? 'block' : 'none';\n",
              "\n",
              "        async function convertToInteractive(key) {\n",
              "          const element = document.querySelector('#df-73d3f997-76d3-48da-844b-00e884d103da');\n",
              "          const dataTable =\n",
              "            await google.colab.kernel.invokeFunction('convertToInteractive',\n",
              "                                                     [key], {});\n",
              "          if (!dataTable) return;\n",
              "\n",
              "          const docLinkHtml = 'Like what you see? Visit the ' +\n",
              "            '<a target=\"_blank\" href=https://colab.research.google.com/notebooks/data_table.ipynb>data table notebook</a>'\n",
              "            + ' to learn more about interactive tables.';\n",
              "          element.innerHTML = '';\n",
              "          dataTable['output_type'] = 'display_data';\n",
              "          await google.colab.output.renderOutput(dataTable, element);\n",
              "          const docLink = document.createElement('div');\n",
              "          docLink.innerHTML = docLinkHtml;\n",
              "          element.appendChild(docLink);\n",
              "        }\n",
              "      </script>\n",
              "    </div>\n",
              "  </div>\n",
              "  "
            ]
          },
          "metadata": {},
          "execution_count": 35
        }
      ]
    },
    {
      "cell_type": "code",
      "source": [
        "sns.set_style(\"whitegrid\")\n",
        "sns.despine(left=True, bottom=True)\n",
        "sns.set_context(\"poster\", font_scale = .7, rc={\"grid.linewidth\": 0.6})\n",
        "sns.set(rc = {'figure.figsize':(11,8)})\n",
        "sns.barplot(data=data, x=\"title\", y=\"count\").set(title=\"Most Common Words:\");\n",
        "\n",
        "# Display the plot\n",
        "plt.show()"
      ],
      "metadata": {
        "colab": {
          "base_uri": "https://localhost:8080/",
          "height": 480
        },
        "id": "5YJKQQRF5IOf",
        "outputId": "3a4ec7d8-8b01-4ee9-faad-be0ae3e0693b"
      },
      "execution_count": null,
      "outputs": [
        {
          "output_type": "display_data",
          "data": {
            "text/plain": [
              "<Figure size 640x480 with 1 Axes>"
            ],
            "image/png": "[encoded data removed]"
          },
          "metadata": {}
        }
      ]
    },
    {
      "cell_type": "code",
      "source": [
        "# Create the pie chart\n",
        "fig = plt.figure(figsize=(10, 7))\n",
        "myexplode = [0.1, 0, 0, 0, 0, 0, 0, 0, 0, 0]\n",
        "patches, texts, autotexts = plt.pie(data[\"count\"], labels=data[\"title\"], autopct='%1.2f%%', explode=myexplode)\n",
        "plt.title(\"Most Common Words\")\n",
        "\n",
        "# Rotate percentage labels\n",
        "for autotext in autotexts:\n",
        "    autotext.set_rotation(80)\n",
        "\n",
        "# Display the plot\n",
        "plt.show()"
      ],
      "metadata": {
        "colab": {
          "base_uri": "https://localhost:8080/",
          "height": 598
        },
        "id": "QrS5iAr2NLvq",
        "outputId": "ad9dc420-9155-4fc7-ea70-43844e5e8daa"
      },
      "execution_count": null,
      "outputs": [
        {
          "output_type": "display_data",
          "data": {
            "text/plain": [
              "<Figure size 1000x700 with 1 Axes>"
            ],
            "image/png": "[encoded data removed]"
          },
          "metadata": {}
        }
      ]
    },
    {
      "cell_type": "code",
      "source": [
        "df.groupby(\"month\").count()"
      ],
      "metadata": {
        "colab": {
          "base_uri": "https://localhost:8080/",
          "height": 457
        },
        "id": "fxxltKmO56BL",
        "outputId": "79b5c908-4911-4954-d848-7aecfdd633f8"
      },
      "execution_count": null,
      "outputs": [
        {
          "output_type": "execute_result",
          "data": {
            "text/plain": [
              "       post_text  followers  friends  favourites  statuses  retweets  label  \\\n",
              "month                                                                         \n",
              "1           6118       6118     6118        6118      6118      6118   6118   \n",
              "2            435        435      435         435       435       435    435   \n",
              "3           1123       1123     1123        1123      1123      1123   1123   \n",
              "4           1054       1054     1054        1054      1054      1054   1054   \n",
              "5            644        644      644         644       644       644    644   \n",
              "6              8          8        8           8         8         8      8   \n",
              "7            359        359      359         359       359       359    359   \n",
              "8            659        659      659         659       659       659    659   \n",
              "9            639        639      639         639       639       639    639   \n",
              "10          1926       1926     1926        1926      1926      1926   1926   \n",
              "11           830        830      830         830       830       830    830   \n",
              "12          6205       6205     6205        6205      6205      6205   6205   \n",
              "\n",
              "       year  tokens  frequency  \n",
              "month                           \n",
              "1      6118    6118       6118  \n",
              "2       435     435        435  \n",
              "3      1123    1123       1123  \n",
              "4      1054    1054       1054  \n",
              "5       644     644        644  \n",
              "6         8       8          8  \n",
              "7       359     359        359  \n",
              "8       659     659        659  \n",
              "9       639     639        639  \n",
              "10     1926    1926       1926  \n",
              "11      830     830        830  \n",
              "12     6205    6205       6205  "
            ],
            "text/html": [
              "\n",
              "  <div id=\"df-a9677ac3-77eb-4b15-b9c3-700b4bf3c777\">\n",
              "    <div class=\"colab-df-container\">\n",
              "      <div>\n",
              "<style scoped>\n",
              "    .dataframe tbody tr th:only-of-type {\n",
              "        vertical-align: middle;\n",
              "    }\n",
              "\n",
              "    .dataframe tbody tr th {\n",
              "        vertical-align: top;\n",
              "    }\n",
              "\n",
              "    .dataframe thead th {\n",
              "        text-align: right;\n",
              "    }\n",
              "</style>\n",
              "<table border=\"1\" class=\"dataframe\">\n",
              "  <thead>\n",
              "    <tr style=\"text-align: right;\">\n",
              "      <th></th>\n",
              "      <th>post_text</th>\n",
              "      <th>followers</th>\n",
              "      <th>friends</th>\n",
              "      <th>favourites</th>\n",
              "      <th>statuses</th>\n",
              "      <th>retweets</th>\n",
              "      <th>label</th>\n",
              "      <th>year</th>\n",
              "      <th>tokens</th>\n",
              "      <th>frequency</th>\n",
              "    </tr>\n",
              "    <tr>\n",
              "      <th>month</th>\n",
              "      <th></th>\n",
              "      <th></th>\n",
              "      <th></th>\n",
              "      <th></th>\n",
              "      <th></th>\n",
              "      <th></th>\n",
              "      <th></th>\n",
              "      <th></th>\n",
              "      <th></th>\n",
              "      <th></th>\n",
              "    </tr>\n",
              "  </thead>\n",
              "  <tbody>\n",
              "    <tr>\n",
              "      <th>1</th>\n",
              "      <td>6118</td>\n",
              "      <td>6118</td>\n",
              "      <td>6118</td>\n",
              "      <td>6118</td>\n",
              "      <td>6118</td>\n",
              "      <td>6118</td>\n",
              "      <td>6118</td>\n",
              "      <td>6118</td>\n",
              "      <td>6118</td>\n",
              "      <td>6118</td>\n",
              "    </tr>\n",
              "    <tr>\n",
              "      <th>2</th>\n",
              "      <td>435</td>\n",
              "      <td>435</td>\n",
              "      <td>435</td>\n",
              "      <td>435</td>\n",
              "      <td>435</td>\n",
              "      <td>435</td>\n",
              "      <td>435</td>\n",
              "      <td>435</td>\n",
              "      <td>435</td>\n",
              "      <td>435</td>\n",
              "    </tr>\n",
              "    <tr>\n",
              "      <th>3</th>\n",
              "      <td>1123</td>\n",
              "      <td>1123</td>\n",
              "      <td>1123</td>\n",
              "      <td>1123</td>\n",
              "      <td>1123</td>\n",
              "      <td>1123</td>\n",
              "      <td>1123</td>\n",
              "      <td>1123</td>\n",
              "      <td>1123</td>\n",
              "      <td>1123</td>\n",
              "    </tr>\n",
              "    <tr>\n",
              "      <th>4</th>\n",
              "      <td>1054</td>\n",
              "      <td>1054</td>\n",
              "      <td>1054</td>\n",
              "      <td>1054</td>\n",
              "      <td>1054</td>\n",
              "      <td>1054</td>\n",
              "      <td>1054</td>\n",
              "      <td>1054</td>\n",
              "      <td>1054</td>\n",
              "      <td>1054</td>\n",
              "    </tr>\n",
              "    <tr>\n",
              "      <th>5</th>\n",
              "      <td>644</td>\n",
              "      <td>644</td>\n",
              "      <td>644</td>\n",
              "      <td>644</td>\n",
              "      <td>644</td>\n",
              "      <td>644</td>\n",
              "      <td>644</td>\n",
              "      <td>644</td>\n",
              "      <td>644</td>\n",
              "      <td>644</td>\n",
              "    </tr>\n",
              "    <tr>\n",
              "      <th>6</th>\n",
              "      <td>8</td>\n",
              "      <td>8</td>\n",
              "      <td>8</td>\n",
              "      <td>8</td>\n",
              "      <td>8</td>\n",
              "      <td>8</td>\n",
              "      <td>8</td>\n",
              "      <td>8</td>\n",
              "      <td>8</td>\n",
              "      <td>8</td>\n",
              "    </tr>\n",
              "    <tr>\n",
              "      <th>7</th>\n",
              "      <td>359</td>\n",
              "      <td>359</td>\n",
              "      <td>359</td>\n",
              "      <td>359</td>\n",
              "      <td>359</td>\n",
              "      <td>359</td>\n",
              "      <td>359</td>\n",
              "      <td>359</td>\n",
              "      <td>359</td>\n",
              "      <td>359</td>\n",
              "    </tr>\n",
              "    <tr>\n",
              "      <th>8</th>\n",
              "      <td>659</td>\n",
              "      <td>659</td>\n",
              "      <td>659</td>\n",
              "      <td>659</td>\n",
              "      <td>659</td>\n",
              "      <td>659</td>\n",
              "      <td>659</td>\n",
              "      <td>659</td>\n",
              "      <td>659</td>\n",
              "      <td>659</td>\n",
              "    </tr>\n",
              "    <tr>\n",
              "      <th>9</th>\n",
              "      <td>639</td>\n",
              "      <td>639</td>\n",
              "      <td>639</td>\n",
              "      <td>639</td>\n",
              "      <td>639</td>\n",
              "      <td>639</td>\n",
              "      <td>639</td>\n",
              "      <td>639</td>\n",
              "      <td>639</td>\n",
              "      <td>639</td>\n",
              "    </tr>\n",
              "    <tr>\n",
              "      <th>10</th>\n",
              "      <td>1926</td>\n",
              "      <td>1926</td>\n",
              "      <td>1926</td>\n",
              "      <td>1926</td>\n",
              "      <td>1926</td>\n",
              "      <td>1926</td>\n",
              "      <td>1926</td>\n",
              "      <td>1926</td>\n",
              "      <td>1926</td>\n",
              "      <td>1926</td>\n",
              "    </tr>\n",
              "    <tr>\n",
              "      <th>11</th>\n",
              "      <td>830</td>\n",
              "      <td>830</td>\n",
              "      <td>830</td>\n",
              "      <td>830</td>\n",
              "      <td>830</td>\n",
              "      <td>830</td>\n",
              "      <td>830</td>\n",
              "      <td>830</td>\n",
              "      <td>830</td>\n",
              "      <td>830</td>\n",
              "    </tr>\n",
              "    <tr>\n",
              "      <th>12</th>\n",
              "      <td>6205</td>\n",
              "      <td>6205</td>\n",
              "      <td>6205</td>\n",
              "      <td>6205</td>\n",
              "      <td>6205</td>\n",
              "      <td>6205</td>\n",
              "      <td>6205</td>\n",
              "      <td>6205</td>\n",
              "      <td>6205</td>\n",
              "      <td>6205</td>\n",
              "    </tr>\n",
              "  </tbody>\n",
              "</table>\n",
              "</div>\n",
              "      <button class=\"colab-df-convert\" onclick=\"convertToInteractive('df-a9677ac3-77eb-4b15-b9c3-700b4bf3c777')\"\n",
              "              title=\"Convert this dataframe to an interactive table.\"\n",
              "              style=\"display:none;\">\n",
              "        \n",
              "  <svg xmlns=\"http://www.w3.org/2000/svg\" height=\"24px\"viewBox=\"0 0 24 24\"\n",
              "       width=\"24px\">\n",
              "    <path d=\"M0 0h24v24H0V0z\" fill=\"none\"/>\n",
              "    <path d=\"M18.56 5.44l.94 2.06.94-2.06 2.06-.94-2.06-.94-.94-2.06-.94 2.06-2.06.94zm-11 1L8.5 8.5l.94-2.06 2.06-.94-2.06-.94L8.5 2.5l-.94 2.06-2.06.94zm10 10l.94 2.06.94-2.06 2.06-.94-2.06-.94-.94-2.06-.94 2.06-2.06.94z\"/><path d=\"M17.41 7.96l-1.37-1.37c-.4-.4-.92-.59-1.43-.59-.52 0-1.04.2-1.43.59L10.3 9.45l-7.72 7.72c-.78.78-.78 2.05 0 2.83L4 21.41c.39.39.9.59 1.41.59.51 0 1.02-.2 1.41-.59l7.78-7.78 2.81-2.81c.8-.78.8-2.07 0-2.86zM5.41 20L4 18.59l7.72-7.72 1.47 1.35L5.41 20z\"/>\n",
              "  </svg>\n",
              "      </button>\n",
              "      \n",
              "  <style>\n",
              "    .colab-df-container {\n",
              "      display:flex;\n",
              "      flex-wrap:wrap;\n",
              "      gap: 12px;\n",
              "    }\n",
              "\n",
              "    .colab-df-convert {\n",
              "      background-color: #E8F0FE;\n",
              "      border: none;\n",
              "      border-radius: 50%;\n",
              "      cursor: pointer;\n",
              "      display: none;\n",
              "      fill: #1967D2;\n",
              "      height: 32px;\n",
              "      padding: 0 0 0 0;\n",
              "      width: 32px;\n",
              "    }\n",
              "\n",
              "    .colab-df-convert:hover {\n",
              "      background-color: #E2EBFA;\n",
              "      box-shadow: 0px 1px 2px rgba(60, 64, 67, 0.3), 0px 1px 3px 1px rgba(60, 64, 67, 0.15);\n",
              "      fill: #174EA6;\n",
              "    }\n",
              "\n",
              "    [theme=dark] .colab-df-convert {\n",
              "      background-color: #3B4455;\n",
              "      fill: #D2E3FC;\n",
              "    }\n",
              "\n",
              "    [theme=dark] .colab-df-convert:hover {\n",
              "      background-color: #434B5C;\n",
              "      box-shadow: 0px 1px 3px 1px rgba(0, 0, 0, 0.15);\n",
              "      filter: drop-shadow(0px 1px 2px rgba(0, 0, 0, 0.3));\n",
              "      fill: #FFFFFF;\n",
              "    }\n",
              "  </style>\n",
              "\n",
              "      <script>\n",
              "        const buttonEl =\n",
              "          document.querySelector('#df-a9677ac3-77eb-4b15-b9c3-700b4bf3c777 button.colab-df-convert');\n",
              "        buttonEl.style.display =\n",
              "          google.colab.kernel.accessAllowed ? 'block' : 'none';\n",
              "\n",
              "        async function convertToInteractive(key) {\n",
              "          const element = document.querySelector('#df-a9677ac3-77eb-4b15-b9c3-700b4bf3c777');\n",
              "          const dataTable =\n",
              "            await google.colab.kernel.invokeFunction('convertToInteractive',\n",
              "                                                     [key], {});\n",
              "          if (!dataTable) return;\n",
              "\n",
              "          const docLinkHtml = 'Like what you see? Visit the ' +\n",
              "            '<a target=\"_blank\" href=https://colab.research.google.com/notebooks/data_table.ipynb>data table notebook</a>'\n",
              "            + ' to learn more about interactive tables.';\n",
              "          element.innerHTML = '';\n",
              "          dataTable['output_type'] = 'display_data';\n",
              "          await google.colab.output.renderOutput(dataTable, element);\n",
              "          const docLink = document.createElement('div');\n",
              "          docLink.innerHTML = docLinkHtml;\n",
              "          element.appendChild(docLink);\n",
              "        }\n",
              "      </script>\n",
              "    </div>\n",
              "  </div>\n",
              "  "
            ]
          },
          "metadata": {},
          "execution_count": 38
        }
      ]
    },
    {
      "cell_type": "markdown",
      "source": [
        "Tweets frequency per month"
      ],
      "metadata": {
        "id": "2GvtKMzR6D7c"
      }
    },
    {
      "cell_type": "code",
      "source": [
        "sns.set_style(\"whitegrid\")\n",
        "sns.despine(left=True, bottom=True)\n",
        "sns.set_context(\"poster\", font_scale = .5, rc={\"grid.linewidth\": 0.6})\n",
        "sns.set(rc = {'figure.figsize':(11,5)})\n",
        "sns.barplot(data=df, x=\"month\", y=\"frequency\").set(title=\"Frequency of tweets per month\");"
      ],
      "metadata": {
        "colab": {
          "base_uri": "https://localhost:8080/",
          "height": 727
        },
        "id": "VHjL1YUD57vo",
        "outputId": "e1035d89-ba66-4bf5-f5ee-10b54625a73d"
      },
      "execution_count": null,
      "outputs": [
        {
          "output_type": "display_data",
          "data": {
            "text/plain": [
              "<Figure size 1100x800 with 1 Axes>"
            ],
            "image/png": "[encoded data removed]"
          },
          "metadata": {}
        }
      ]
    },
    {
      "cell_type": "markdown",
      "source": [
        "Tweets frequency per year"
      ],
      "metadata": {
        "id": "PRbiKu896NxJ"
      }
    },
    {
      "cell_type": "code",
      "source": [
        "sns.set_style(\"whitegrid\")\n",
        "sns.despine(left=True, bottom=True)\n",
        "sns.set_context(\"poster\", font_scale = .5, rc={\"grid.linewidth\": 0.6})\n",
        "sns.set(rc = {'figure.figsize':(11,5)})\n",
        "sns.barplot(data=df, x=\"year\", y=\"frequency\").set(title=\"Frequency of tweets per year\");"
      ],
      "metadata": {
        "colab": {
          "base_uri": "https://localhost:8080/",
          "height": 496
        },
        "id": "IJXgnLkq6QuE",
        "outputId": "1a8923fa-3fb9-4242-ca7f-1919136eb96b"
      },
      "execution_count": null,
      "outputs": [
        {
          "output_type": "display_data",
          "data": {
            "text/plain": [
              "<Figure size 1100x500 with 1 Axes>"
            ],
            "image/png": "[encoded data removed]"
          },
          "metadata": {}
        }
      ]
    },
    {
      "cell_type": "markdown",
      "source": [
        "Followers per month"
      ],
      "metadata": {
        "id": "X9Y3L4cg6enP"
      }
    },
    {
      "cell_type": "code",
      "source": [
        "sns.set_style(\"whitegrid\")\n",
        "sns.despine(left=True, bottom=True)\n",
        "sns.set_context(\"poster\", font_scale = .5, rc={\"grid.linewidth\": 0.6})\n",
        "sns.set(rc = {'figure.figsize':(11,5)})\n",
        "sns.barplot(data=df, x=\"month\", y=\"followers\").set(title=\"Followers per month\");"
      ],
      "metadata": {
        "colab": {
          "base_uri": "https://localhost:8080/",
          "height": 496
        },
        "id": "RpeSSNAd6gvO",
        "outputId": "296689ea-5ed2-4305-c095-3061185a902b"
      },
      "execution_count": null,
      "outputs": [
        {
          "output_type": "display_data",
          "data": {
            "text/plain": [
              "<Figure size 1100x500 with 1 Axes>"
            ],
            "image/png": "[encoded data removed]"
          },
          "metadata": {}
        }
      ]
    },
    {
      "cell_type": "markdown",
      "source": [
        "Followers per year"
      ],
      "metadata": {
        "id": "_-ynkXNU6kwv"
      }
    },
    {
      "cell_type": "code",
      "source": [
        "sns.set_style(\"whitegrid\")\n",
        "sns.despine(left=True, bottom=True)\n",
        "sns.set_context(\"poster\", font_scale = .5, rc={\"grid.linewidth\": 0.6})\n",
        "sns.set(rc = {'figure.figsize':(11,5)})\n",
        "sns.barplot(data=df, x=\"year\", y=\"followers\").set(title=\"Followers per month\");"
      ],
      "metadata": {
        "colab": {
          "base_uri": "https://localhost:8080/",
          "height": 496
        },
        "id": "vuI2SVD96m1n",
        "outputId": "10c5cd78-c85d-4ea7-fd69-56c950604341"
      },
      "execution_count": null,
      "outputs": [
        {
          "output_type": "display_data",
          "data": {
            "text/plain": [
              "<Figure size 1100x500 with 1 Axes>"
            ],
            "image/png": "[encoded data removed]"
          },
          "metadata": {}
        }
      ]
    },
    {
      "cell_type": "code",
      "source": [
        "sns.set_style(\"whitegrid\")\n",
        "sns.despine(left=True, bottom=True)\n",
        "sns.set_context(\"poster\", font_scale = .2, rc={\"grid.linewidth\": 0.3})\n",
        "sns.set(rc = {'figure.figsize':(9,3)})\n",
        "sns.barplot(data=df, x=\"label\", y=\"followers\").set(title=\"label\");"
      ],
      "metadata": {
        "colab": {
          "base_uri": "https://localhost:8080/",
          "height": 496
        },
        "id": "Mcby4UVH6o0c",
        "outputId": "84a2d167-fc41-46c2-bc6a-8348464e8add"
      },
      "execution_count": null,
      "outputs": [
        {
          "output_type": "display_data",
          "data": {
            "text/plain": [
              "<Figure size 1100x500 with 1 Axes>"
            ],
            "image/png": "[encoded data removed]"
          },
          "metadata": {}
        }
      ]
    },
    {
      "cell_type": "code",
      "source": [
        "sns.set_style(\"whitegrid\")\n",
        "sns.despine(left=True, bottom=True)\n",
        "sns.set_context(\"poster\", font_scale = .5, rc={\"grid.linewidth\": 0.6})\n",
        "sns.set(rc = {'figure.figsize':(11,5)})\n",
        "sns.barplot(data=df, x=\"label\", y=\"retweets\").set(title=\"label\");"
      ],
      "metadata": {
        "colab": {
          "base_uri": "https://localhost:8080/",
          "height": 342
        },
        "id": "0fMD9qSr7HL4",
        "outputId": "7a35b9d3-d7f5-435f-dd3d-9f578d90bf7d"
      },
      "execution_count": null,
      "outputs": [
        {
          "output_type": "display_data",
          "data": {
            "text/plain": [
              "<Figure size 900x300 with 1 Axes>"
            ],
            "image/png": "[encoded data removed]"
          },
          "metadata": {}
        }
      ]
    },
    {
      "cell_type": "markdown",
      "source": [
        "Retweets/favourites"
      ],
      "metadata": {
        "id": "71LWh61G7Vd8"
      }
    },
    {
      "cell_type": "code",
      "source": [
        "sns.lineplot(data=df, x=\"favourites\", y=\"retweets\").set(title=\"Density of Retweets/Likes\");"
      ],
      "metadata": {
        "colab": {
          "base_uri": "https://localhost:8080/",
          "height": 496
        },
        "id": "mzjQU0x77YC2",
        "outputId": "a1d9387b-613e-45bd-a061-ff1662e40382"
      },
      "execution_count": null,
      "outputs": [
        {
          "output_type": "display_data",
          "data": {
            "text/plain": [
              "<Figure size 1100x500 with 1 Axes>"
            ],
            "image/png": "[encoded data removed]"
          },
          "metadata": {}
        }
      ]
    },
    {
      "cell_type": "markdown",
      "source": [
        "Density of retweets/likes"
      ],
      "metadata": {
        "id": "Zpau7Gvg7dLJ"
      }
    },
    {
      "cell_type": "code",
      "source": [
        "sns.scatterplot(data=df, x=\"friends\", y=\"statuses\",).set(title=\"Density of Retweets/Likes\");"
      ],
      "metadata": {
        "colab": {
          "base_uri": "https://localhost:8080/",
          "height": 496
        },
        "id": "0rE9Jni67aaT",
        "outputId": "a35095ca-8a40-424b-e04d-cd600f455e39"
      },
      "execution_count": null,
      "outputs": [
        {
          "output_type": "display_data",
          "data": {
            "text/plain": [
              "<Figure size 1100x500 with 1 Axes>"
            ],
            "image/png": "[encoded data removed]"
          },
          "metadata": {}
        }
      ]
    },
    {
      "cell_type": "code",
      "source": [
        "len(df[df[\"label\"]==0]), len(df[df[\"label\"]==1])"
      ],
      "metadata": {
        "colab": {
          "base_uri": "https://localhost:8080/"
        },
        "id": "WdPLo1ATRZHd",
        "outputId": "235a7e8f-0bc3-4523-f18f-65c6d2a5baaf"
      },
      "execution_count": null,
      "outputs": [
        {
          "output_type": "execute_result",
          "data": {
            "text/plain": [
              "(10000, 10000)"
            ]
          },
          "metadata": {},
          "execution_count": 47
        }
      ]
    },
    {
      "cell_type": "markdown",
      "source": [
        "MODEL DEVELOPMENT AND EVALUATION"
      ],
      "metadata": {
        "id": "-6kdznhSSvu8"
      }
    },
    {
      "cell_type": "markdown",
      "source": [
        "Splitting into Train and Test Data"
      ],
      "metadata": {
        "id": "g83rvzsHS0Mm"
      }
    },
    {
      "cell_type": "code",
      "source": [
        "from sklearn.model_selection import train_test_split\n",
        "\n",
        "x= df[\"post_text\"]\n",
        "y = df[\"label\"].astype(\"int\")\n",
        "x_train,x_test, y_train, y_test = train_test_split(x,y,test_size=0.2,random_state=42)\n"
      ],
      "metadata": {
        "id": "XOWPtEDcSy1n"
      },
      "execution_count": null,
      "outputs": []
    },
    {
      "cell_type": "code",
      "source": [
        "from sklearn.feature_extraction.text import CountVectorizer, TfidfVectorizer\n",
        "cv = CountVectorizer(ngram_range=(1,3))\n",
        "tf = TfidfVectorizer(ngram_range=(1,3))\n",
        "x1 = cv.fit_transform(x_train)\n",
        "x2 = tf.fit_transform(x_train)"
      ],
      "metadata": {
        "id": "BrI3Q-vHS8As"
      },
      "execution_count": null,
      "outputs": []
    },
    {
      "cell_type": "code",
      "source": [
        "from sklearn import metrics\n",
        "\n",
        "accuracy = {}\n",
        "model = {}\n",
        "vectorizer = {\"CountVectorizer\":cv,\"TfidfVectorizer\":tf}"
      ],
      "metadata": {
        "id": "5leXmL9PS8Dp"
      },
      "execution_count": null,
      "outputs": []
    },
    {
      "cell_type": "code",
      "source": [
        "from tabulate import tabulate\n",
        "\n",
        "accuracy_table = []\n"
      ],
      "metadata": {
        "id": "-aSnMZebN4ob"
      },
      "execution_count": null,
      "outputs": []
    },
    {
      "cell_type": "markdown",
      "source": [
        "Support Vector Machine"
      ],
      "metadata": {
        "id": "UP4fPVCeWtGj"
      }
    },
    {
      "cell_type": "markdown",
      "source": [
        "CountVectorizer"
      ],
      "metadata": {
        "id": "D4eUINoCXm9N"
      }
    },
    {
      "cell_type": "code",
      "source": [
        "from sklearn import svm\n",
        "\n",
        "classifier=svm.SVC()\n",
        "classifier.fit(x1,y_train)\n",
        "y_predict1=classifier.predict(cv.transform(x_test))\n",
        "k = \"Support Vector Machine with CountVectorizer\"\n",
        "model[k]=classifier"
      ],
      "metadata": {
        "id": "aiKkTeHbWyxv"
      },
      "execution_count": null,
      "outputs": []
    },
    {
      "cell_type": "code",
      "source": [
        "b1=metrics.accuracy_score(y_test, y_predict1)\n",
        "recall = metrics.recall_score(y_test, y_predict1)\n",
        "accuracy[k] = float(\"{0:.4f}\".format(b1))\n",
        "print(k)\n",
        "print(\"Accuracy: \",accuracy[k])\n",
        "print(\"Recall  : {0:.4f}\".format(recall))\n",
        "\n",
        "accuracy_table.append([\"SVM-cv\", b1, recall])\n"
      ],
      "metadata": {
        "colab": {
          "base_uri": "https://localhost:8080/"
        },
        "id": "eGQ0C4RLXrU7",
        "outputId": "7421388a-96b3-4af5-d78a-25c35a593478"
      },
      "execution_count": null,
      "outputs": [
        {
          "output_type": "stream",
          "name": "stdout",
          "text": [
            "Support Vector Machine with CountVectorizer\n",
            "Accuracy:  0.8033\n",
            "Recall  : 0.7831\n"
          ]
        }
      ]
    },
    {
      "cell_type": "markdown",
      "source": [
        "TfidfVectorizer"
      ],
      "metadata": {
        "id": "Zsx_eimKX2bs"
      }
    },
    {
      "cell_type": "code",
      "source": [
        "classifier=svm.SVC()\n",
        "classifier.fit(x2,y_train)\n",
        "y_predict2=classifier.predict(tf.transform(x_test))\n",
        "k = \"Support Vector Machine with TfidfVectorizer\"\n",
        "model[k]=classifier"
      ],
      "metadata": {
        "id": "VH-eT_htX4Lh"
      },
      "execution_count": null,
      "outputs": []
    },
    {
      "cell_type": "code",
      "source": [
        "b2=metrics.accuracy_score(y_test, y_predict2)\n",
        "recall = metrics.recall_score(y_test, y_predict2)\n",
        "accuracy[k] = float(\"{0:.4f}\".format(b2))\n",
        "print(k)\n",
        "print(\"Accuracy: \",accuracy[k])\n",
        "print(\"Recall  : {0:.4f}\".format(recall))\n",
        "\n",
        "accuracy_table.append([\"SVM-tfidf\", b2, recall])"
      ],
      "metadata": {
        "id": "bRElhSq9X7Py",
        "colab": {
          "base_uri": "https://localhost:8080/"
        },
        "outputId": "3b5b1311-6d89-4a9c-bb5e-aa1750b7dca7"
      },
      "execution_count": null,
      "outputs": [
        {
          "output_type": "stream",
          "name": "stdout",
          "text": [
            "Support Vector Machine with TfidfVectorizer\n",
            "Accuracy:  0.8255\n",
            "Recall  : 0.8955\n"
          ]
        }
      ]
    },
    {
      "cell_type": "markdown",
      "source": [
        "Binomial Naive Bayes"
      ],
      "metadata": {
        "id": "mQEb1LB3YIwT"
      }
    },
    {
      "cell_type": "markdown",
      "source": [
        "Count Vectorizer"
      ],
      "metadata": {
        "id": "JjrbRljNYOw2"
      }
    },
    {
      "cell_type": "code",
      "source": [
        "from sklearn.naive_bayes import BernoulliNB\n",
        "\n",
        "\n",
        "nb = BernoulliNB()\n",
        "nb.fit(x1,y_train)\n",
        "y_predict3=classifier.predict(cv.transform(x_test))\n",
        "k = \"Binomial Naive Bayes with CountVectorizer\"\n",
        "model[k]=nb"
      ],
      "metadata": {
        "id": "MWv9u6PsYNgC"
      },
      "execution_count": null,
      "outputs": []
    },
    {
      "cell_type": "code",
      "source": [
        "b3=metrics.accuracy_score(y_test, y_predict3)\n",
        "recall = metrics.recall_score(y_test, y_predict3)\n",
        "accuracy[k] = float(\"{0:.4f}\".format(b3))\n",
        "print(k)\n",
        "print(\"Accuracy: \",accuracy[k])\n",
        "print(\"Recall  : {0:.4f}\".format(recall))\n",
        "\n",
        "accuracy_table.append([\"BNB-cv\", b3, recall])\n"
      ],
      "metadata": {
        "colab": {
          "base_uri": "https://localhost:8080/"
        },
        "id": "aYKgBcYVZGwV",
        "outputId": "e81b2729-04ef-455c-9107-c10bbf586541"
      },
      "execution_count": null,
      "outputs": [
        {
          "output_type": "stream",
          "name": "stdout",
          "text": [
            "Binomial Naive Bayes with CountVectorizer\n",
            "Accuracy:  0.4935\n",
            "Recall  : 0.0471\n"
          ]
        }
      ]
    },
    {
      "cell_type": "markdown",
      "source": [
        "TfidfVectorizer"
      ],
      "metadata": {
        "id": "MUd7-3ynZKkP"
      }
    },
    {
      "cell_type": "code",
      "source": [
        "nb = BernoulliNB()\n",
        "nb.fit(x2,y_train)\n",
        "y_predict4=classifier.predict(tf.transform(x_test))\n",
        "k = \"Binomial Naive Bayes with TfidfVectorizer\"\n",
        "model[k]=nb\n"
      ],
      "metadata": {
        "id": "yW13SgGRZPgE"
      },
      "execution_count": null,
      "outputs": []
    },
    {
      "cell_type": "code",
      "source": [
        "b4=metrics.accuracy_score(y_test,y_predict4)\n",
        "recall = metrics.recall_score(y_test, y_predict4)\n",
        "accuracy[k] = float(\"{0:.4f}\".format(b4))\n",
        "print(k)\n",
        "print(\"Accuracy: \",accuracy[k])\n",
        "print(\"Recall  : {0:.4f}\".format(recall))\n",
        "\n",
        "accuracy_table.append([\"BNB-tfidf\", b4, recall])\n"
      ],
      "metadata": {
        "id": "elGF6XioZPcx",
        "colab": {
          "base_uri": "https://localhost:8080/"
        },
        "outputId": "cebb3e3b-017e-455e-80b4-587ade84e6a9"
      },
      "execution_count": null,
      "outputs": [
        {
          "output_type": "stream",
          "name": "stdout",
          "text": [
            "Binomial Naive Bayes with TfidfVectorizer\n",
            "Accuracy:  0.8255\n",
            "Recall  : 0.8955\n"
          ]
        }
      ]
    },
    {
      "cell_type": "markdown",
      "source": [
        "Decision Tree Classifier"
      ],
      "metadata": {
        "id": "KtiTI3ETZJ3f"
      }
    },
    {
      "cell_type": "markdown",
      "source": [
        "CountVectorizer"
      ],
      "metadata": {
        "id": "ezdND17zZbY1"
      }
    },
    {
      "cell_type": "code",
      "source": [
        "from sklearn.tree import DecisionTreeClassifier\n",
        "\n",
        "dtc = DecisionTreeClassifier()\n",
        "dtc.fit(x1,y_train)\n",
        "y_pred1 = dtc.predict(cv.transform(x_test))\n",
        "k = \"Decision Tree Classifier with CountVectorizer\"\n",
        "model[k]=dtc"
      ],
      "metadata": {
        "id": "XWUsBf53ZZ8F"
      },
      "execution_count": null,
      "outputs": []
    },
    {
      "cell_type": "code",
      "source": [
        "a1 = metrics.accuracy_score(y_test, y_pred1)\n",
        "recall = metrics.recall_score(y_test, y_pred1)\n",
        "accuracy[k] = a1\n",
        "print(k)\n",
        "print(\"Accuracy: {0:.4f}\".format(a1))\n",
        "print(\"Recall  : {0:.4f}\".format(recall))\n",
        "\n",
        "accuracy_table.append([\"DT-cv\", a1, recall])\n"
      ],
      "metadata": {
        "colab": {
          "base_uri": "https://localhost:8080/"
        },
        "id": "kH9R9nb8bJXv",
        "outputId": "9d0497f6-be1c-4540-a0c6-a420761c8e53"
      },
      "execution_count": null,
      "outputs": [
        {
          "output_type": "stream",
          "name": "stdout",
          "text": [
            "Decision Tree Classifier with CountVectorizer\n",
            "Accuracy: 0.7472\n",
            "Recall  : 0.8202\n"
          ]
        }
      ]
    },
    {
      "cell_type": "markdown",
      "source": [
        "TfidfVectorizer"
      ],
      "metadata": {
        "id": "9FnBDYe8bLFb"
      }
    },
    {
      "cell_type": "code",
      "source": [
        "dtc = DecisionTreeClassifier()\n",
        "dtc.fit(x2,y_train)\n",
        "y_pred2 = dtc.predict(tf.transform(x_test))\n",
        "k = \"Decision Tree Classifier with TfidfVectorizer\"\n",
        "model[k]=dtc"
      ],
      "metadata": {
        "id": "mU3XXxo8bKEt"
      },
      "execution_count": null,
      "outputs": []
    },
    {
      "cell_type": "code",
      "source": [
        "a2 = metrics.accuracy_score(y_test, y_pred2)\n",
        "recall = metrics.recall_score(y_test, y_pred2)\n",
        "accuracy[k] = a2\n",
        "print(k)\n",
        "print(\"Accuracy: {0:.4f}\".format(a2))\n",
        "print(\"Recall  : {0:.4f}\".format(recall))\n",
        "\n",
        "accuracy_table.append([\"DT-tfidf\", a2, recall])\n"
      ],
      "metadata": {
        "id": "1aYbs2WebRy3",
        "colab": {
          "base_uri": "https://localhost:8080/"
        },
        "outputId": "64cc2159-b69f-46ef-9bde-fca15c67a153"
      },
      "execution_count": null,
      "outputs": [
        {
          "output_type": "stream",
          "name": "stdout",
          "text": [
            "Decision Tree Classifier with TfidfVectorizer\n",
            "Accuracy: 0.7188\n",
            "Recall  : 0.8593\n"
          ]
        }
      ]
    },
    {
      "cell_type": "markdown",
      "source": [
        "**Random Forest Classifier**"
      ],
      "metadata": {
        "id": "nWcUzlx6bV3Z"
      }
    },
    {
      "cell_type": "markdown",
      "source": [
        "CountVectorizer"
      ],
      "metadata": {
        "id": "EOSqwdtsbZ7P"
      }
    },
    {
      "cell_type": "code",
      "source": [
        "from sklearn.ensemble import RandomForestClassifier\n",
        "\n",
        "rfc = RandomForestClassifier()\n",
        "rfc.fit(x1,y_train)\n",
        "y_pred3 = rfc.predict(cv.transform(x_test))\n",
        "k = \"Random Forest Classifier with CountVectorizer\"\n",
        "model[k]=rfc"
      ],
      "metadata": {
        "id": "8LLTJcnibU6K"
      },
      "execution_count": null,
      "outputs": []
    },
    {
      "cell_type": "code",
      "source": [
        "a3 = metrics.accuracy_score(y_test, y_pred3)\n",
        "recall = metrics.recall_score(y_test, y_pred3)\n",
        "accuracy[k] = a3\n",
        "print(k)\n",
        "print(\"Accuracy: {0:.4f}\".format(a3))\n",
        "print(\"Recall  : {0:.4f}\".format(recall))\n",
        "\n",
        "accuracy_table.append([\"rf-cv\", a3, recall])\n"
      ],
      "metadata": {
        "id": "O6GU-UNQblDc",
        "colab": {
          "base_uri": "https://localhost:8080/"
        },
        "outputId": "c4d18f69-7664-4f0b-f9c2-ae8fec3d6ed4"
      },
      "execution_count": null,
      "outputs": [
        {
          "output_type": "stream",
          "name": "stdout",
          "text": [
            "Random Forest Classifier with CountVectorizer\n",
            "Accuracy: 0.7903\n",
            "Recall  : 0.8474\n"
          ]
        }
      ]
    },
    {
      "cell_type": "markdown",
      "source": [
        "TfidfVectorizer"
      ],
      "metadata": {
        "id": "Omvf-nYTboOr"
      }
    },
    {
      "cell_type": "code",
      "source": [
        "rfc = RandomForestClassifier()\n",
        "rfc.fit(x2,y_train)\n",
        "y_pred4 = rfc.predict(tf.transform(x_test))\n",
        "k = \"Random Forest Classifier with TfidfVectorizer\"\n",
        "model[k]=rfc"
      ],
      "metadata": {
        "id": "t75Scywvbu6Q"
      },
      "execution_count": null,
      "outputs": []
    },
    {
      "cell_type": "code",
      "source": [
        "a4 = metrics.accuracy_score(y_test, y_pred4)\n",
        "recall = metrics.recall_score(y_test, y_pred4)\n",
        "accuracy[k] = a4\n",
        "print(k)\n",
        "print(\"Accuracy: {0:.4f}\".format(a4))\n",
        "print(\"Recall  : {0:.4f}\".format(recall))\n",
        "\n",
        "accuracy_table.append([\"rf-tfidf\", a4, recall])\n"
      ],
      "metadata": {
        "id": "11uDN9yZb0vv",
        "colab": {
          "base_uri": "https://localhost:8080/"
        },
        "outputId": "2931d45d-422a-4579-8851-60f7435d484b"
      },
      "execution_count": null,
      "outputs": [
        {
          "output_type": "stream",
          "name": "stdout",
          "text": [
            "Random Forest Classifier with TfidfVectorizer\n",
            "Accuracy: 0.7640\n",
            "Recall  : 0.9178\n"
          ]
        }
      ]
    },
    {
      "cell_type": "markdown",
      "source": [
        "K Nearest Neighbors"
      ],
      "metadata": {
        "id": "NWtJm-gbb4QT"
      }
    },
    {
      "cell_type": "markdown",
      "source": [
        "CountVectorizer"
      ],
      "metadata": {
        "id": "2nVAGiE_b-_2"
      }
    },
    {
      "cell_type": "code",
      "source": [
        "from sklearn.neighbors import KNeighborsClassifier\n",
        "\n",
        "classifier = KNeighborsClassifier()\n",
        "classifier.fit(x1,y_train)\n",
        "Y_pred1 = classifier.predict(cv.transform(x_test))\n",
        "k = \"KNeighborsClassifier with CountVectorizer\"\n",
        "model[k]=classifier"
      ],
      "metadata": {
        "id": "wPba-e6sb9NN"
      },
      "execution_count": null,
      "outputs": []
    },
    {
      "cell_type": "code",
      "source": [
        "c1 = metrics.accuracy_score(y_test, Y_pred1)\n",
        "recall = metrics.recall_score(y_test, Y_pred1)\n",
        "accuracy[k] = c1\n",
        "print(k)\n",
        "print(\"Accuracy: {0:.4f}\".format(c1))\n",
        "print(\"Recall  : {0:.4f}\".format(recall))\n",
        "\n",
        "accuracy_table.append([\"KNN-cv\", c1, recall])\n"
      ],
      "metadata": {
        "id": "0lelT50ccDyr",
        "colab": {
          "base_uri": "https://localhost:8080/"
        },
        "outputId": "98ad93d0-c22c-486f-8c9b-59b1c1f29967"
      },
      "execution_count": null,
      "outputs": [
        {
          "output_type": "stream",
          "name": "stdout",
          "text": [
            "KNeighborsClassifier with CountVectorizer\n",
            "Accuracy: 0.5447\n",
            "Recall  : 0.9916\n"
          ]
        }
      ]
    },
    {
      "cell_type": "markdown",
      "source": [
        "TfidfVectorizer"
      ],
      "metadata": {
        "id": "92tkv2IycEor"
      }
    },
    {
      "cell_type": "code",
      "source": [
        "classifier = KNeighborsClassifier()\n",
        "classifier.fit(x2,y_train)\n",
        "Y_pred2 = classifier.predict(tf.transform(x_test))\n",
        "k = \"KNeighborsClassifier with TfidfVectorizer\"\n",
        "model[k]=classifier"
      ],
      "metadata": {
        "id": "p5N8-9M-cFga"
      },
      "execution_count": null,
      "outputs": []
    },
    {
      "cell_type": "code",
      "source": [
        "c2 = metrics.accuracy_score(y_test, Y_pred2)\n",
        "recall = metrics.recall_score(y_test, Y_pred2)\n",
        "accuracy[k] = c2\n",
        "print(k)\n",
        "print(\"Accuracy: {0:.4f}\".format(c2))\n",
        "print(\"Recall  : {0:.4f}\".format(recall))\n",
        "\n",
        "accuracy_table.append([\"KNN-tfidf\", c2, recall])\n"
      ],
      "metadata": {
        "id": "Lamz-aPTcF6b",
        "colab": {
          "base_uri": "https://localhost:8080/"
        },
        "outputId": "01aa0dc0-1e9f-4d0b-f36b-71761e8a0b85"
      },
      "execution_count": null,
      "outputs": [
        {
          "output_type": "stream",
          "name": "stdout",
          "text": [
            "KNeighborsClassifier with TfidfVectorizer\n",
            "Accuracy: 0.5383\n",
            "Recall  : 1.0000\n"
          ]
        }
      ]
    },
    {
      "cell_type": "markdown",
      "source": [
        "Logistic Regression"
      ],
      "metadata": {
        "id": "Nwwtfk0mckY2"
      }
    },
    {
      "cell_type": "markdown",
      "source": [
        "CountVectorizer"
      ],
      "metadata": {
        "id": "5guHjvD8cj9v"
      }
    },
    {
      "cell_type": "code",
      "source": [
        "from sklearn.linear_model import LogisticRegression\n",
        "\n",
        "lr = LogisticRegression()\n",
        "lr.fit(x1,y_train)\n",
        "Y_pred3 = lr.predict(cv.transform(x_test))\n",
        "k = \"Logistic Regression with CountVectorizer\"\n",
        "model[k]=lr"
      ],
      "metadata": {
        "id": "KGcz66X9clky"
      },
      "execution_count": null,
      "outputs": []
    },
    {
      "cell_type": "code",
      "source": [
        "c3 = metrics.accuracy_score(y_test, Y_pred3)\n",
        "recall = metrics.recall_score(y_test, Y_pred3)\n",
        "accuracy[k] = c3\n",
        "print(k)\n",
        "print(\"Accuracy: {0:.4f}\".format(c3))\n",
        "print(\"Recall  : {0:.4f}\".format(recall))\n",
        "\n",
        "accuracy_table.append([\"lr-cv\", c3, recall])\n"
      ],
      "metadata": {
        "colab": {
          "base_uri": "https://localhost:8080/"
        },
        "id": "eXT7gUplcmKw",
        "outputId": "45aa1508-f8c1-4c1b-84c2-31f242f51852"
      },
      "execution_count": null,
      "outputs": [
        {
          "output_type": "stream",
          "name": "stdout",
          "text": [
            "Logistic Regression with CountVectorizer\n",
            "Accuracy: 0.8470\n",
            "Recall  : 0.8385\n"
          ]
        }
      ]
    },
    {
      "cell_type": "markdown",
      "source": [
        "TfidfVectorizer"
      ],
      "metadata": {
        "id": "Nq8r60s4cjpr"
      }
    },
    {
      "cell_type": "code",
      "source": [
        "lr = LogisticRegression()\n",
        "lr.fit(x2,y_train)\n",
        "Y_pred4 = lr.predict(tf.transform(x_test))\n",
        "k = \"Logistic Regression with TfidfVectorizer\"\n",
        "model[k]=lr"
      ],
      "metadata": {
        "id": "s8OZs8F-cnV7"
      },
      "execution_count": null,
      "outputs": []
    },
    {
      "cell_type": "code",
      "source": [
        "c4 = metrics.accuracy_score(y_test, Y_pred4)\n",
        "recall = metrics.recall_score(y_test, Y_pred4)\n",
        "accuracy[k] = c4\n",
        "print(k)\n",
        "print(\"Accuracy: {0:.4f}\".format(c4))\n",
        "print(\"Recall  : {0:.4f}\".format(recall))\n",
        "\n",
        "accuracy_table.append([\"Lr-tfidf\", c4, recall])\n"
      ],
      "metadata": {
        "id": "DEDj_YvccnDC",
        "colab": {
          "base_uri": "https://localhost:8080/"
        },
        "outputId": "7313b9b7-0135-42ea-b920-6baabd2cceab"
      },
      "execution_count": null,
      "outputs": [
        {
          "output_type": "stream",
          "name": "stdout",
          "text": [
            "Logistic Regression with TfidfVectorizer\n",
            "Accuracy: 0.8420\n",
            "Recall  : 0.8816\n"
          ]
        }
      ]
    },
    {
      "cell_type": "code",
      "source": [
        "sorted(accuracy)\n",
        "ad = pd.DataFrame({\"Accuracy\":accuracy})\n",
        "ad"
      ],
      "metadata": {
        "id": "N_jz3m1_dCNV",
        "colab": {
          "base_uri": "https://localhost:8080/",
          "height": 425
        },
        "outputId": "e163eda8-de26-4e52-87a2-7b516d781b77"
      },
      "execution_count": null,
      "outputs": [
        {
          "output_type": "execute_result",
          "data": {
            "text/plain": [
              "                                               Accuracy\n",
              "Binomial Naive Bayes with CountVectorizer       0.49350\n",
              "Binomial Naive Bayes with TfidfVectorizer       0.82550\n",
              "Decision Tree Classifier with CountVectorizer   0.74725\n",
              "Decision Tree Classifier with TfidfVectorizer   0.71875\n",
              "KNeighborsClassifier with CountVectorizer       0.54475\n",
              "KNeighborsClassifier with TfidfVectorizer       0.53825\n",
              "Logistic Regression with CountVectorizer        0.84700\n",
              "Logistic Regression with TfidfVectorizer        0.84200\n",
              "Random Forest Classifier with CountVectorizer   0.79025\n",
              "Random Forest Classifier with TfidfVectorizer   0.76400\n",
              "Support Vector Machine with CountVectorizer     0.80330\n",
              "Support Vector Machine with TfidfVectorizer     0.82550"
            ],
            "text/html": [
              "\n",
              "  <div id=\"df-28710738-6bc2-433b-b7db-c94645868c5c\">\n",
              "    <div class=\"colab-df-container\">\n",
              "      <div>\n",
              "<style scoped>\n",
              "    .dataframe tbody tr th:only-of-type {\n",
              "        vertical-align: middle;\n",
              "    }\n",
              "\n",
              "    .dataframe tbody tr th {\n",
              "        vertical-align: top;\n",
              "    }\n",
              "\n",
              "    .dataframe thead th {\n",
              "        text-align: right;\n",
              "    }\n",
              "</style>\n",
              "<table border=\"1\" class=\"dataframe\">\n",
              "  <thead>\n",
              "    <tr style=\"text-align: right;\">\n",
              "      <th></th>\n",
              "      <th>Accuracy</th>\n",
              "    </tr>\n",
              "  </thead>\n",
              "  <tbody>\n",
              "    <tr>\n",
              "      <th>Binomial Naive Bayes with CountVectorizer</th>\n",
              "      <td>0.49350</td>\n",
              "    </tr>\n",
              "    <tr>\n",
              "      <th>Binomial Naive Bayes with TfidfVectorizer</th>\n",
              "      <td>0.82550</td>\n",
              "    </tr>\n",
              "    <tr>\n",
              "      <th>Decision Tree Classifier with CountVectorizer</th>\n",
              "      <td>0.74725</td>\n",
              "    </tr>\n",
              "    <tr>\n",
              "      <th>Decision Tree Classifier with TfidfVectorizer</th>\n",
              "      <td>0.71875</td>\n",
              "    </tr>\n",
              "    <tr>\n",
              "      <th>KNeighborsClassifier with CountVectorizer</th>\n",
              "      <td>0.54475</td>\n",
              "    </tr>\n",
              "    <tr>\n",
              "      <th>KNeighborsClassifier with TfidfVectorizer</th>\n",
              "      <td>0.53825</td>\n",
              "    </tr>\n",
              "    <tr>\n",
              "      <th>Logistic Regression with CountVectorizer</th>\n",
              "      <td>0.84700</td>\n",
              "    </tr>\n",
              "    <tr>\n",
              "      <th>Logistic Regression with TfidfVectorizer</th>\n",
              "      <td>0.84200</td>\n",
              "    </tr>\n",
              "    <tr>\n",
              "      <th>Random Forest Classifier with CountVectorizer</th>\n",
              "      <td>0.79025</td>\n",
              "    </tr>\n",
              "    <tr>\n",
              "      <th>Random Forest Classifier with TfidfVectorizer</th>\n",
              "      <td>0.76400</td>\n",
              "    </tr>\n",
              "    <tr>\n",
              "      <th>Support Vector Machine with CountVectorizer</th>\n",
              "      <td>0.80330</td>\n",
              "    </tr>\n",
              "    <tr>\n",
              "      <th>Support Vector Machine with TfidfVectorizer</th>\n",
              "      <td>0.82550</td>\n",
              "    </tr>\n",
              "  </tbody>\n",
              "</table>\n",
              "</div>\n",
              "      <button class=\"colab-df-convert\" onclick=\"convertToInteractive('df-28710738-6bc2-433b-b7db-c94645868c5c')\"\n",
              "              title=\"Convert this dataframe to an interactive table.\"\n",
              "              style=\"display:none;\">\n",
              "        \n",
              "  <svg xmlns=\"http://www.w3.org/2000/svg\" height=\"24px\"viewBox=\"0 0 24 24\"\n",
              "       width=\"24px\">\n",
              "    <path d=\"M0 0h24v24H0V0z\" fill=\"none\"/>\n",
              "    <path d=\"M18.56 5.44l.94 2.06.94-2.06 2.06-.94-2.06-.94-.94-2.06-.94 2.06-2.06.94zm-11 1L8.5 8.5l.94-2.06 2.06-.94-2.06-.94L8.5 2.5l-.94 2.06-2.06.94zm10 10l.94 2.06.94-2.06 2.06-.94-2.06-.94-.94-2.06-.94 2.06-2.06.94z\"/><path d=\"M17.41 7.96l-1.37-1.37c-.4-.4-.92-.59-1.43-.59-.52 0-1.04.2-1.43.59L10.3 9.45l-7.72 7.72c-.78.78-.78 2.05 0 2.83L4 21.41c.39.39.9.59 1.41.59.51 0 1.02-.2 1.41-.59l7.78-7.78 2.81-2.81c.8-.78.8-2.07 0-2.86zM5.41 20L4 18.59l7.72-7.72 1.47 1.35L5.41 20z\"/>\n",
              "  </svg>\n",
              "      </button>\n",
              "      \n",
              "  <style>\n",
              "    .colab-df-container {\n",
              "      display:flex;\n",
              "      flex-wrap:wrap;\n",
              "      gap: 12px;\n",
              "    }\n",
              "\n",
              "    .colab-df-convert {\n",
              "      background-color: #E8F0FE;\n",
              "      border: none;\n",
              "      border-radius: 50%;\n",
              "      cursor: pointer;\n",
              "      display: none;\n",
              "      fill: #1967D2;\n",
              "      height: 32px;\n",
              "      padding: 0 0 0 0;\n",
              "      width: 32px;\n",
              "    }\n",
              "\n",
              "    .colab-df-convert:hover {\n",
              "      background-color: #E2EBFA;\n",
              "      box-shadow: 0px 1px 2px rgba(60, 64, 67, 0.3), 0px 1px 3px 1px rgba(60, 64, 67, 0.15);\n",
              "      fill: #174EA6;\n",
              "    }\n",
              "\n",
              "    [theme=dark] .colab-df-convert {\n",
              "      background-color: #3B4455;\n",
              "      fill: #D2E3FC;\n",
              "    }\n",
              "\n",
              "    [theme=dark] .colab-df-convert:hover {\n",
              "      background-color: #434B5C;\n",
              "      box-shadow: 0px 1px 3px 1px rgba(0, 0, 0, 0.15);\n",
              "      filter: drop-shadow(0px 1px 2px rgba(0, 0, 0, 0.3));\n",
              "      fill: #FFFFFF;\n",
              "    }\n",
              "  </style>\n",
              "\n",
              "      <script>\n",
              "        const buttonEl =\n",
              "          document.querySelector('#df-28710738-6bc2-433b-b7db-c94645868c5c button.colab-df-convert');\n",
              "        buttonEl.style.display =\n",
              "          google.colab.kernel.accessAllowed ? 'block' : 'none';\n",
              "\n",
              "        async function convertToInteractive(key) {\n",
              "          const element = document.querySelector('#df-28710738-6bc2-433b-b7db-c94645868c5c');\n",
              "          const dataTable =\n",
              "            await google.colab.kernel.invokeFunction('convertToInteractive',\n",
              "                                                     [key], {});\n",
              "          if (!dataTable) return;\n",
              "\n",
              "          const docLinkHtml = 'Like what you see? Visit the ' +\n",
              "            '<a target=\"_blank\" href=https://colab.research.google.com/notebooks/data_table.ipynb>data table notebook</a>'\n",
              "            + ' to learn more about interactive tables.';\n",
              "          element.innerHTML = '';\n",
              "          dataTable['output_type'] = 'display_data';\n",
              "          await google.colab.output.renderOutput(dataTable, element);\n",
              "          const docLink = document.createElement('div');\n",
              "          docLink.innerHTML = docLinkHtml;\n",
              "          element.appendChild(docLink);\n",
              "        }\n",
              "      </script>\n",
              "    </div>\n",
              "  </div>\n",
              "  "
            ]
          },
          "metadata": {},
          "execution_count": 76
        }
      ]
    },
    {
      "cell_type": "code",
      "source": [
        "m = max(accuracy,key=accuracy.get)\n",
        "a = accuracy[m]\n",
        "print(\"The model with highest accuracy is\",m,\"with an Accuracy of\",\"{:.2f}\".format(a*100),\"%\")"
      ],
      "metadata": {
        "id": "rYfdi2MSdCJ6",
        "colab": {
          "base_uri": "https://localhost:8080/"
        },
        "outputId": "8a3a44c7-dc39-4889-d5ae-f8d12b920b9a"
      },
      "execution_count": null,
      "outputs": [
        {
          "output_type": "stream",
          "name": "stdout",
          "text": [
            "The model with highest accuracy is Logistic Regression with CountVectorizer with an Accuracy of 84.70 %\n"
          ]
        }
      ]
    },
    {
      "cell_type": "code",
      "source": [
        "#import pickle\n",
        "\n",
        "#if(\"CountVectorizer\" in m):\n",
        "  #  v = vectorizer[\"CountVectorizer\"]\n",
        "#elif(\"TfidfVectorizer\" in m):\n",
        "  #  v = vectorizer[\"TfidfVectorizer\"]\n",
        "\n",
        "#pickle.dump(v,open(\"vectorizer.pkl\",\"wb\"))\n",
        "#pickle.dump(model[m],open(\"model.pkl\",\"wb\"))"
      ],
      "metadata": {
        "id": "iQeTaCCndSLW"
      },
      "execution_count": null,
      "outputs": []
    },
    {
      "cell_type": "code",
      "source": [
        "\n",
        "# Print the table\n",
        "table_headers = [\"Model\", \"Accuracy\", \"Recall\"]\n",
        "print(tabulate(accuracy_table, headers=table_headers, tablefmt=\"grid\"))"
      ],
      "metadata": {
        "colab": {
          "base_uri": "https://localhost:8080/"
        },
        "id": "X0-d9vFWP9ko",
        "outputId": "2f72d3e0-eb0e-4823-f589-ef3d3e86a2a8"
      },
      "execution_count": null,
      "outputs": [
        {
          "output_type": "stream",
          "name": "stdout",
          "text": [
            "+-----------+------------+----------+\n",
            "| Model     |   Accuracy |   Recall |\n",
            "+===========+============+==========+\n",
            "| SVM-cv    |    0.80325 | 0.783061 |\n",
            "+-----------+------------+----------+\n",
            "| SVM-tfidf |    0.8255  | 0.895493 |\n",
            "+-----------+------------+----------+\n",
            "| BNB-cv    |    0.4935  | 0.047053 |\n",
            "+-----------+------------+----------+\n",
            "| BNB-tfidf |    0.8255  | 0.895493 |\n",
            "+-----------+------------+----------+\n",
            "| DT-cv     |    0.74725 | 0.820208 |\n",
            "+-----------+------------+----------+\n",
            "| DT-tfidf  |    0.71875 | 0.859336 |\n",
            "+-----------+------------+----------+\n",
            "| rf-cv     |    0.79025 | 0.847449 |\n",
            "+-----------+------------+----------+\n",
            "| rf-tfidf  |    0.764   | 0.917781 |\n",
            "+-----------+------------+----------+\n",
            "| KNN-cv    |    0.54475 | 0.99158  |\n",
            "+-----------+------------+----------+\n",
            "| KNN-tfidf |    0.53825 | 1        |\n",
            "+-----------+------------+----------+\n",
            "| lr-cv     |    0.847   | 0.838534 |\n",
            "+-----------+------------+----------+\n",
            "| Lr-tfidf  |    0.842   | 0.881625 |\n",
            "+-----------+------------+----------+\n"
          ]
        }
      ]
    },
    {
      "cell_type": "markdown",
      "source": [
        "LSTM"
      ],
      "metadata": {
        "id": "KsKdxNa7HeTx"
      }
    },
    {
      "cell_type": "code",
      "source": [
        "df"
      ],
      "metadata": {
        "colab": {
          "base_uri": "https://localhost:8080/",
          "height": 423
        },
        "id": "mJhofchGlD-z",
        "outputId": "a4425556-01f9-424d-ad63-0584d274f6c3"
      },
      "execution_count": null,
      "outputs": [
        {
          "output_type": "execute_result",
          "data": {
            "text/plain": [
              "                                               post_text  followers  friends  \\\n",
              "0      years since diagnosed anxiety depression today...         84      211   \n",
              "1      sunday need break im planning spend little tim...         84      211   \n",
              "2                     awake tired need sleep brain ideas         84      211   \n",
              "3      rt sewhq retro bears make perfect gifts great ...         84      211   \n",
              "4      hard say whether packing lists making life eas...         84      211   \n",
              "...                                                  ...        ...      ...   \n",
              "19995                    day without sunshine like night        442      230   \n",
              "19996  borens laws charge ponder trouble delegate dou...        442      230   \n",
              "19997  flow chart thoroughly oversold piece program d...        442      230   \n",
              "19998                 ships safe harbor never meant stay        442      230   \n",
              "19999                      black holes god dividing zero        442      230   \n",
              "\n",
              "       favourites  statuses  retweets  label  month  year  \\\n",
              "0             251       837         0      1      8  2015   \n",
              "1             251       837         1      1      8  2015   \n",
              "2             251       837         0      1      8  2015   \n",
              "3             251       837         2      1      8  2015   \n",
              "4             251       837         1      1      8  2015   \n",
              "...           ...       ...       ...    ...    ...   ...   \n",
              "19995           7   1063601         0      0      1  2017   \n",
              "19996           7   1063601         0      0      1  2017   \n",
              "19997           7   1063601         0      0      1  2017   \n",
              "19998           7   1063601         0      0      1  2017   \n",
              "19999           7   1063601         0      0      1  2017   \n",
              "\n",
              "                                                  tokens  frequency  \n",
              "0      [years, since, diagnosed, anxiety, depression,...         14  \n",
              "1      [sunday, need, break, im, planning, spend, lit...          9  \n",
              "2              [awake, tired, need, sleep, brain, ideas]          6  \n",
              "3      [rt, sewhq, retro, bears, make, perfect, gifts...         16  \n",
              "4      [hard, say, whether, packing, lists, making, l...         14  \n",
              "...                                                  ...        ...  \n",
              "19995              [day, without, sunshine, like, night]          5  \n",
              "19996  [borens, laws, charge, ponder, trouble, delega...          8  \n",
              "19997  [flow, chart, thoroughly, oversold, piece, pro...         13  \n",
              "19998          [ships, safe, harbor, never, meant, stay]          6  \n",
              "19999                [black, holes, god, dividing, zero]          5  \n",
              "\n",
              "[20000 rows x 11 columns]"
            ],
            "text/html": [
              "\n",
              "  <div id=\"df-f5a56020-8c0b-400c-930e-5c1214767c6f\">\n",
              "    <div class=\"colab-df-container\">\n",
              "      <div>\n",
              "<style scoped>\n",
              "    .dataframe tbody tr th:only-of-type {\n",
              "        vertical-align: middle;\n",
              "    }\n",
              "\n",
              "    .dataframe tbody tr th {\n",
              "        vertical-align: top;\n",
              "    }\n",
              "\n",
              "    .dataframe thead th {\n",
              "        text-align: right;\n",
              "    }\n",
              "</style>\n",
              "<table border=\"1\" class=\"dataframe\">\n",
              "  <thead>\n",
              "    <tr style=\"text-align: right;\">\n",
              "      <th></th>\n",
              "      <th>post_text</th>\n",
              "      <th>followers</th>\n",
              "      <th>friends</th>\n",
              "      <th>favourites</th>\n",
              "      <th>statuses</th>\n",
              "      <th>retweets</th>\n",
              "      <th>label</th>\n",
              "      <th>month</th>\n",
              "      <th>year</th>\n",
              "      <th>tokens</th>\n",
              "      <th>frequency</th>\n",
              "    </tr>\n",
              "  </thead>\n",
              "  <tbody>\n",
              "    <tr>\n",
              "      <th>0</th>\n",
              "      <td>years since diagnosed anxiety depression today...</td>\n",
              "      <td>84</td>\n",
              "      <td>211</td>\n",
              "      <td>251</td>\n",
              "      <td>837</td>\n",
              "      <td>0</td>\n",
              "      <td>1</td>\n",
              "      <td>8</td>\n",
              "      <td>2015</td>\n",
              "      <td>[years, since, diagnosed, anxiety, depression,...</td>\n",
              "      <td>14</td>\n",
              "    </tr>\n",
              "    <tr>\n",
              "      <th>1</th>\n",
              "      <td>sunday need break im planning spend little tim...</td>\n",
              "      <td>84</td>\n",
              "      <td>211</td>\n",
              "      <td>251</td>\n",
              "      <td>837</td>\n",
              "      <td>1</td>\n",
              "      <td>1</td>\n",
              "      <td>8</td>\n",
              "      <td>2015</td>\n",
              "      <td>[sunday, need, break, im, planning, spend, lit...</td>\n",
              "      <td>9</td>\n",
              "    </tr>\n",
              "    <tr>\n",
              "      <th>2</th>\n",
              "      <td>awake tired need sleep brain ideas</td>\n",
              "      <td>84</td>\n",
              "      <td>211</td>\n",
              "      <td>251</td>\n",
              "      <td>837</td>\n",
              "      <td>0</td>\n",
              "      <td>1</td>\n",
              "      <td>8</td>\n",
              "      <td>2015</td>\n",
              "      <td>[awake, tired, need, sleep, brain, ideas]</td>\n",
              "      <td>6</td>\n",
              "    </tr>\n",
              "    <tr>\n",
              "      <th>3</th>\n",
              "      <td>rt sewhq retro bears make perfect gifts great ...</td>\n",
              "      <td>84</td>\n",
              "      <td>211</td>\n",
              "      <td>251</td>\n",
              "      <td>837</td>\n",
              "      <td>2</td>\n",
              "      <td>1</td>\n",
              "      <td>8</td>\n",
              "      <td>2015</td>\n",
              "      <td>[rt, sewhq, retro, bears, make, perfect, gifts...</td>\n",
              "      <td>16</td>\n",
              "    </tr>\n",
              "    <tr>\n",
              "      <th>4</th>\n",
              "      <td>hard say whether packing lists making life eas...</td>\n",
              "      <td>84</td>\n",
              "      <td>211</td>\n",
              "      <td>251</td>\n",
              "      <td>837</td>\n",
              "      <td>1</td>\n",
              "      <td>1</td>\n",
              "      <td>8</td>\n",
              "      <td>2015</td>\n",
              "      <td>[hard, say, whether, packing, lists, making, l...</td>\n",
              "      <td>14</td>\n",
              "    </tr>\n",
              "    <tr>\n",
              "      <th>...</th>\n",
              "      <td>...</td>\n",
              "      <td>...</td>\n",
              "      <td>...</td>\n",
              "      <td>...</td>\n",
              "      <td>...</td>\n",
              "      <td>...</td>\n",
              "      <td>...</td>\n",
              "      <td>...</td>\n",
              "      <td>...</td>\n",
              "      <td>...</td>\n",
              "      <td>...</td>\n",
              "    </tr>\n",
              "    <tr>\n",
              "      <th>19995</th>\n",
              "      <td>day without sunshine like night</td>\n",
              "      <td>442</td>\n",
              "      <td>230</td>\n",
              "      <td>7</td>\n",
              "      <td>1063601</td>\n",
              "      <td>0</td>\n",
              "      <td>0</td>\n",
              "      <td>1</td>\n",
              "      <td>2017</td>\n",
              "      <td>[day, without, sunshine, like, night]</td>\n",
              "      <td>5</td>\n",
              "    </tr>\n",
              "    <tr>\n",
              "      <th>19996</th>\n",
              "      <td>borens laws charge ponder trouble delegate dou...</td>\n",
              "      <td>442</td>\n",
              "      <td>230</td>\n",
              "      <td>7</td>\n",
              "      <td>1063601</td>\n",
              "      <td>0</td>\n",
              "      <td>0</td>\n",
              "      <td>1</td>\n",
              "      <td>2017</td>\n",
              "      <td>[borens, laws, charge, ponder, trouble, delega...</td>\n",
              "      <td>8</td>\n",
              "    </tr>\n",
              "    <tr>\n",
              "      <th>19997</th>\n",
              "      <td>flow chart thoroughly oversold piece program d...</td>\n",
              "      <td>442</td>\n",
              "      <td>230</td>\n",
              "      <td>7</td>\n",
              "      <td>1063601</td>\n",
              "      <td>0</td>\n",
              "      <td>0</td>\n",
              "      <td>1</td>\n",
              "      <td>2017</td>\n",
              "      <td>[flow, chart, thoroughly, oversold, piece, pro...</td>\n",
              "      <td>13</td>\n",
              "    </tr>\n",
              "    <tr>\n",
              "      <th>19998</th>\n",
              "      <td>ships safe harbor never meant stay</td>\n",
              "      <td>442</td>\n",
              "      <td>230</td>\n",
              "      <td>7</td>\n",
              "      <td>1063601</td>\n",
              "      <td>0</td>\n",
              "      <td>0</td>\n",
              "      <td>1</td>\n",
              "      <td>2017</td>\n",
              "      <td>[ships, safe, harbor, never, meant, stay]</td>\n",
              "      <td>6</td>\n",
              "    </tr>\n",
              "    <tr>\n",
              "      <th>19999</th>\n",
              "      <td>black holes god dividing zero</td>\n",
              "      <td>442</td>\n",
              "      <td>230</td>\n",
              "      <td>7</td>\n",
              "      <td>1063601</td>\n",
              "      <td>0</td>\n",
              "      <td>0</td>\n",
              "      <td>1</td>\n",
              "      <td>2017</td>\n",
              "      <td>[black, holes, god, dividing, zero]</td>\n",
              "      <td>5</td>\n",
              "    </tr>\n",
              "  </tbody>\n",
              "</table>\n",
              "<p>20000 rows × 11 columns</p>\n",
              "</div>\n",
              "      <button class=\"colab-df-convert\" onclick=\"convertToInteractive('df-f5a56020-8c0b-400c-930e-5c1214767c6f')\"\n",
              "              title=\"Convert this dataframe to an interactive table.\"\n",
              "              style=\"display:none;\">\n",
              "        \n",
              "  <svg xmlns=\"http://www.w3.org/2000/svg\" height=\"24px\"viewBox=\"0 0 24 24\"\n",
              "       width=\"24px\">\n",
              "    <path d=\"M0 0h24v24H0V0z\" fill=\"none\"/>\n",
              "    <path d=\"M18.56 5.44l.94 2.06.94-2.06 2.06-.94-2.06-.94-.94-2.06-.94 2.06-2.06.94zm-11 1L8.5 8.5l.94-2.06 2.06-.94-2.06-.94L8.5 2.5l-.94 2.06-2.06.94zm10 10l.94 2.06.94-2.06 2.06-.94-2.06-.94-.94-2.06-.94 2.06-2.06.94z\"/><path d=\"M17.41 7.96l-1.37-1.37c-.4-.4-.92-.59-1.43-.59-.52 0-1.04.2-1.43.59L10.3 9.45l-7.72 7.72c-.78.78-.78 2.05 0 2.83L4 21.41c.39.39.9.59 1.41.59.51 0 1.02-.2 1.41-.59l7.78-7.78 2.81-2.81c.8-.78.8-2.07 0-2.86zM5.41 20L4 18.59l7.72-7.72 1.47 1.35L5.41 20z\"/>\n",
              "  </svg>\n",
              "      </button>\n",
              "      \n",
              "  <style>\n",
              "    .colab-df-container {\n",
              "      display:flex;\n",
              "      flex-wrap:wrap;\n",
              "      gap: 12px;\n",
              "    }\n",
              "\n",
              "    .colab-df-convert {\n",
              "      background-color: #E8F0FE;\n",
              "      border: none;\n",
              "      border-radius: 50%;\n",
              "      cursor: pointer;\n",
              "      display: none;\n",
              "      fill: #1967D2;\n",
              "      height: 32px;\n",
              "      padding: 0 0 0 0;\n",
              "      width: 32px;\n",
              "    }\n",
              "\n",
              "    .colab-df-convert:hover {\n",
              "      background-color: #E2EBFA;\n",
              "      box-shadow: 0px 1px 2px rgba(60, 64, 67, 0.3), 0px 1px 3px 1px rgba(60, 64, 67, 0.15);\n",
              "      fill: #174EA6;\n",
              "    }\n",
              "\n",
              "    [theme=dark] .colab-df-convert {\n",
              "      background-color: #3B4455;\n",
              "      fill: #D2E3FC;\n",
              "    }\n",
              "\n",
              "    [theme=dark] .colab-df-convert:hover {\n",
              "      background-color: #434B5C;\n",
              "      box-shadow: 0px 1px 3px 1px rgba(0, 0, 0, 0.15);\n",
              "      filter: drop-shadow(0px 1px 2px rgba(0, 0, 0, 0.3));\n",
              "      fill: #FFFFFF;\n",
              "    }\n",
              "  </style>\n",
              "\n",
              "      <script>\n",
              "        const buttonEl =\n",
              "          document.querySelector('#df-f5a56020-8c0b-400c-930e-5c1214767c6f button.colab-df-convert');\n",
              "        buttonEl.style.display =\n",
              "          google.colab.kernel.accessAllowed ? 'block' : 'none';\n",
              "\n",
              "        async function convertToInteractive(key) {\n",
              "          const element = document.querySelector('#df-f5a56020-8c0b-400c-930e-5c1214767c6f');\n",
              "          const dataTable =\n",
              "            await google.colab.kernel.invokeFunction('convertToInteractive',\n",
              "                                                     [key], {});\n",
              "          if (!dataTable) return;\n",
              "\n",
              "          const docLinkHtml = 'Like what you see? Visit the ' +\n",
              "            '<a target=\"_blank\" href=https://colab.research.google.com/notebooks/data_table.ipynb>data table notebook</a>'\n",
              "            + ' to learn more about interactive tables.';\n",
              "          element.innerHTML = '';\n",
              "          dataTable['output_type'] = 'display_data';\n",
              "          await google.colab.output.renderOutput(dataTable, element);\n",
              "          const docLink = document.createElement('div');\n",
              "          docLink.innerHTML = docLinkHtml;\n",
              "          element.appendChild(docLink);\n",
              "        }\n",
              "      </script>\n",
              "    </div>\n",
              "  </div>\n",
              "  "
            ]
          },
          "metadata": {},
          "execution_count": 51
        }
      ]
    },
    {
      "cell_type": "code",
      "source": [
        "from tensorflow import keras\n",
        "from tensorflow.keras.preprocessing.text import Tokenizer\n",
        "from tensorflow.keras.preprocessing.sequence import pad_sequences\n",
        "\n",
        "# Assuming you have a DataFrame called df with a column \"post_text\" containing the text data\n",
        "\n",
        "# Tokenize the text\n",
        "tokenizer = Tokenizer()\n",
        "tokenizer.fit_on_texts(df[\"post_text\"])\n",
        "sequences = tokenizer.texts_to_sequences(df[\"post_text\"])\n",
        "\n",
        "# Pad sequences\n",
        "max_sequence_length = 280  # Define the maximum sequence length\n",
        "padded_sequences = pad_sequences(sequences, maxlen=max_sequence_length)\n",
        "\n",
        "# Define the LSTM model\n",
        "model = keras.models.Sequential()\n",
        "model.add(keras.layers.Embedding(input_dim=len(tokenizer.word_index) + 1, output_dim=100, input_length=max_sequence_length))\n",
        "model.add(keras.layers.LSTM(units=128))\n",
        "model.add(keras.layers.Dense(units=1, activation='sigmoid'))\n",
        "\n",
        "# Compile the model\n",
        "model.compile(loss='binary_crossentropy', optimizer='adam', metrics=['accuracy'])\n",
        "\n",
        "# Train the model\n",
        "model.fit(padded_sequences, df[\"label\"], batch_size=32, epochs=10, validation_split=0.2)\n"
      ],
      "metadata": {
        "colab": {
          "base_uri": "https://localhost:8080/"
        },
        "id": "gEs4RnWprC_9",
        "outputId": "7c0be2b4-b939-4c0d-f6c8-8572581ee18e"
      },
      "execution_count": null,
      "outputs": [
        {
          "output_type": "stream",
          "name": "stdout",
          "text": [
            "Epoch 1/10\n",
            "500/500 [==============================] - 261s 518ms/step - loss: 0.4089 - accuracy: 0.8064 - val_loss: 1.3736 - val_accuracy: 0.2180\n",
            "Epoch 2/10\n",
            "500/500 [==============================] - 263s 526ms/step - loss: 0.1217 - accuracy: 0.9564 - val_loss: 1.7723 - val_accuracy: 0.2803\n",
            "Epoch 3/10\n",
            "500/500 [==============================] - 263s 526ms/step - loss: 0.0403 - accuracy: 0.9874 - val_loss: 1.8907 - val_accuracy: 0.3560\n",
            "Epoch 4/10\n",
            "500/500 [==============================] - 262s 524ms/step - loss: 0.0300 - accuracy: 0.9904 - val_loss: 2.4150 - val_accuracy: 0.3200\n",
            "Epoch 5/10\n",
            "500/500 [==============================] - 262s 524ms/step - loss: 0.0131 - accuracy: 0.9952 - val_loss: 2.7002 - val_accuracy: 0.3408\n",
            "Epoch 6/10\n",
            "500/500 [==============================] - 264s 529ms/step - loss: 0.0077 - accuracy: 0.9974 - val_loss: 2.7782 - val_accuracy: 0.3580\n",
            "Epoch 7/10\n",
            "500/500 [==============================] - 263s 527ms/step - loss: 0.0068 - accuracy: 0.9973 - val_loss: 3.3546 - val_accuracy: 0.3142\n",
            "Epoch 8/10\n",
            "500/500 [==============================] - 265s 529ms/step - loss: 0.0056 - accuracy: 0.9983 - val_loss: 3.6882 - val_accuracy: 0.3120\n",
            "Epoch 9/10\n",
            "500/500 [==============================] - 264s 527ms/step - loss: 0.0024 - accuracy: 0.9993 - val_loss: 3.7160 - val_accuracy: 0.3585\n",
            "Epoch 10/10\n",
            "500/500 [==============================] - 265s 529ms/step - loss: 0.0156 - accuracy: 0.9962 - val_loss: 2.8767 - val_accuracy: 0.3140\n"
          ]
        },
        {
          "output_type": "execute_result",
          "data": {
            "text/plain": [
              "<keras.callbacks.History at 0x7f535c475510>"
            ]
          },
          "metadata": {},
          "execution_count": 80
        }
      ]
    }
  ]
}